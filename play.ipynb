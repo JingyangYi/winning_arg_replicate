{
 "cells": [
  {
   "metadata": {
    "ExecuteTime": {
     "end_time": "2024-09-23T14:07:45.783120Z",
     "start_time": "2024-09-23T14:05:21.634087Z"
    }
   },
   "cell_type": "code",
   "source": [
    "# load the data\n",
    "import tarfile\n",
    "import os.path\n",
    "import json\n",
    "import re\n",
    "from bz2 import BZ2File\n",
    "from urllib import request\n",
    "from io import BytesIO\n",
    "\n",
    "import numpy as np\n",
    "\n",
    "\n",
    "fname = \"cmv.tar.bz2\"\n",
    "url = \"https://chenhaot.com/data/cmv/\" + fname\n",
    "\n",
    "# download if not exists\n",
    "if not os.path.isfile(fname):\n",
    "    f = BytesIO()\n",
    "    with request.urlopen(url) as resp, open(fname, 'wb') as f_disk:\n",
    "        data = resp.read()\n",
    "        f_disk.write(data)  # save to disk too\n",
    "        f.write(data)\n",
    "        f.seek(0)\n",
    "else:\n",
    "    f = open(fname, 'rb')\n",
    "\n",
    "\n",
    "tar = tarfile.open(fileobj=f, mode=\"r\")\n",
    "\n",
    "# Extract the file we are interested in\n",
    "\n",
    "train_fname = \"op_task/train_op_data.jsonlist.bz2\"\n",
    "test_fname = \"op_task/heldout_op_data.jsonlist.bz2\"\n",
    "\n",
    "train_bzlist = tar.extractfile(train_fname)\n",
    "\n",
    "# Deserialize the JSON list\n",
    "original_posts_train = [\n",
    "    json.loads(line.decode('utf-8'))\n",
    "    for line in BZ2File(train_bzlist)\n",
    "]\n",
    "\n",
    "test_bzlist = tar.extractfile(test_fname)\n",
    "\n",
    "original_posts_test = [\n",
    "    json.loads(line.decode('utf-8'))\n",
    "    for line in BZ2File(test_bzlist)\n",
    "]\n",
    "f.close()"
   ],
   "id": "e59b987e3d4c2d66",
   "outputs": [],
   "execution_count": 19
  },
  {
   "metadata": {
    "ExecuteTime": {
     "end_time": "2024-09-23T16:45:57.252938Z",
     "start_time": "2024-09-23T16:45:57.249433Z"
    }
   },
   "cell_type": "code",
   "source": [
    "file_names = tar.getnames()\n",
    "\n",
    "# Print the file names\n",
    "for name in file_names:\n",
    "    print(name)"
   ],
   "id": "a9bb729ca20b487b",
   "outputs": [
    {
     "name": "stdout",
     "output_type": "stream",
     "text": [
      "README\n",
      "all\n",
      "all/heldout_period_data.jsonlist.bz2\n",
      "all/train_period_data.jsonlist.bz2\n",
      "op_task\n",
      "op_task/heldout_op_data.jsonlist.bz2\n",
      "op_task/train_op_data.jsonlist.bz2\n",
      "pair_task\n",
      "pair_task/train_pair_data.jsonlist.bz2\n",
      "pair_task/heldout_pair_data.jsonlist.bz2\n"
     ]
    }
   ],
   "execution_count": 52
  },
  {
   "metadata": {
    "ExecuteTime": {
     "end_time": "2024-09-23T18:22:46.899264Z",
     "start_time": "2024-09-23T18:22:46.895013Z"
    }
   },
   "cell_type": "code",
   "source": [
    "from IPython.display import Markdown\n",
    "\n",
    "def show_post(cmv_post):\n",
    "    md_format = \"**{title}** \\n\\n {selftext}\".format(**cmv_post)\n",
    "    md_format = \"\\n\".join([\"> \" + line for line in md_format.splitlines()])\n",
    "    return Markdown(md_format)\n",
    "show_post(original_posts_train[250])"
   ],
   "id": "b27309d54e2f6a27",
   "outputs": [
    {
     "data": {
      "text/plain": [
       "<IPython.core.display.Markdown object>"
      ],
      "text/markdown": "> **CMV: \"Classic\" actors in older movies were absolutely terrible at their art.** \n> \n>  Old movies aren't typically my taste, but I've recently watched *Gone with the Wind* and *What Ever Happened to Baby Jane?* and I think the acting in these movies (by supposedly \"great\" actors) is awful. There is zero subtlety and everything is over-acted. It's like watching a bunch of five-year-olds playing pretend. I've noticed it particularly with *Gone with the Wind* because the book is one of my all-time favorites and I was so disappointed with the movie. There are so many subtle layers of emotion in the book that could have at least partially been conveyed on-screen with facial expressions and body language, but they skipped all of that and painted things with the broadest brush possible. Even Clark Gable's famous line, \"Frankly my dear, I don't give a damn\" came across only as angry, instead of how it should have been - soft, pain-filled, and resigned. So, change my view. Tell me why you think these \"classic\" actors were great.\n> \n> _____\n> \n> &gt; *Hello, users of CMV! This is a footnote from your moderators. We'd just like to remind you of a couple of things. Firstly, please remember to* ***[read through our rules](http://www.reddit.com/r/changemyview/wiki/rules)***. *If you see a comment that has broken one, it is more effective to report it than downvote it. Speaking of which,* ***[downvotes don't change views](http://www.reddit.com/r/changemyview/wiki/guidelines#wiki_upvoting.2Fdownvoting)****! If you are thinking about submitting a CMV yourself, please have a look through our* ***[popular topics wiki](http://www.reddit.com/r/changemyview/wiki/populartopics)*** *first. Any questions or concerns? Feel free to* ***[message us](http://www.reddit.com/message/compose?to=/r/changemyview)***. *Happy CMVing!*"
     },
     "execution_count": 61,
     "metadata": {},
     "output_type": "execute_result"
    }
   ],
   "execution_count": 61
  },
  {
   "metadata": {
    "ExecuteTime": {
     "end_time": "2024-09-23T18:22:50.980335Z",
     "start_time": "2024-09-23T18:22:50.974311Z"
    }
   },
   "cell_type": "code",
   "source": [
    "print(original_posts_train[250].keys())\n",
    "average_length = sum([len(line['selftext']) for line in original_posts_train]) / len(original_posts_train)\n",
    "print(f'Average OP length: {average_length:.3f}')"
   ],
   "id": "c7b2b8a09263afc",
   "outputs": [
    {
     "name": "stdout",
     "output_type": "stream",
     "text": [
      "dict_keys(['title', 'delta_label', 'name', 'selftext'])\n",
      "Average OP length: 1838.071\n"
     ]
    }
   ],
   "execution_count": 62
  },
  {
   "metadata": {
    "ExecuteTime": {
     "end_time": "2024-09-23T18:09:47.598115Z",
     "start_time": "2024-09-23T18:09:47.593601Z"
    }
   },
   "cell_type": "code",
   "source": [
    "len(original_posts_train)"
   ],
   "id": "9768b151519cb89a",
   "outputs": [
    {
     "data": {
      "text/plain": [
       "10743"
      ]
     },
     "execution_count": 56,
     "metadata": {},
     "output_type": "execute_result"
    }
   ],
   "execution_count": 56
  },
  {
   "metadata": {
    "ExecuteTime": {
     "end_time": "2024-09-24T02:56:31.625491Z",
     "start_time": "2024-09-24T02:56:31.621909Z"
    }
   },
   "cell_type": "code",
   "source": [
    "original_posts_train[243][\"delta_label\"]"
   ],
   "id": "4a29d64a8b6bf4a9",
   "outputs": [
    {
     "data": {
      "text/plain": [
       "True"
      ]
     },
     "execution_count": 89,
     "metadata": {},
     "output_type": "execute_result"
    }
   ],
   "execution_count": 89
  },
  {
   "metadata": {
    "ExecuteTime": {
     "end_time": "2024-09-24T02:55:29.680701Z",
     "start_time": "2024-09-24T02:55:29.676751Z"
    }
   },
   "cell_type": "code",
   "source": [
    "_, post_id = original_posts_train[250]['name'].split(\"_\")\n",
    "print(\"http://reddit.com/r/changemyview/comments/{}\".format(post_id))"
   ],
   "id": "f7c9d03a820d1866",
   "outputs": [
    {
     "name": "stdout",
     "output_type": "stream",
     "text": [
      "http://reddit.com/r/changemyview/comments/2plncc\n"
     ]
    }
   ],
   "execution_count": 86
  },
  {
   "metadata": {
    "ExecuteTime": {
     "end_time": "2024-09-24T02:56:26.612127Z",
     "start_time": "2024-09-24T02:56:26.607160Z"
    }
   },
   "cell_type": "code",
   "source": [
    "def cleanup(cmv_post):\n",
    "    lines = [line for line in cmv_post.splitlines()\n",
    "             if not line.lstrip().startswith(\"&gt;\")\n",
    "             and not line.lstrip().startswith(\"____\")\n",
    "             and \"edit\" not in \" \".join(line.lower().split()[:2])\n",
    "            ]\n",
    "    return \"\\n\".join(lines)\n",
    "show_post(dict(title=original_posts_train[243]['title'],\n",
    "               selftext=cleanup(original_posts_train[243]['selftext'])))"
   ],
   "id": "183d4840fa4fed09",
   "outputs": [
    {
     "data": {
      "text/plain": [
       "<IPython.core.display.Markdown object>"
      ],
      "text/markdown": "> **CMV: Movie culture is overrated because it is neither diverse nor creative.** \n> \n>  \n>  When I say movie and movie industry I am only expressing movies with real life actors. I see more prevalent diversity and creativity in cartoons and anime.\n> \n> With every new movie I feel as though I have seen it before. This sense grows with every movie. I appreciate the subtle tricks directors throw in here and there to tilt the angle of the audience's perception of the scene. This is the beauty of the art of film-making. However, I do not appreciate the redundancy of obvious filming tricks that seem to slip by others while I see them as cut-copy. \n> \n> I loathe actors. I think the acting paradigm is stale because of the way the movie industry operates (recycling the same actors and suppressing the unique to guarantee another successful movie).\n> \n> I'm also greatly disturbed by the way people rate movies. People never have an accurate critique on whether the movie was \"good\" or \"bad\". I believe their decision of the movie's goodness is based on things unrelated to the movie itself such as preset confirmation bias due to certain actors or directors associated with the film, confirmation bias due to a friend's 'review', group think, or even intruding mood. \n> \n> "
     },
     "execution_count": 88,
     "metadata": {},
     "output_type": "execute_result"
    }
   ],
   "execution_count": 88
  },
  {
   "metadata": {
    "ExecuteTime": {
     "end_time": "2024-09-23T16:13:17.469542Z",
     "start_time": "2024-09-23T16:13:17.385068Z"
    }
   },
   "cell_type": "code",
   "source": [
    "from sklearn.feature_extraction.text import TfidfVectorizer\n",
    "from sklearn.model_selection import train_test_split  # Updated import\n",
    "from sklearn.linear_model import LogisticRegressionCV\n",
    "from sklearn.metrics import roc_auc_score  # Updated import"
   ],
   "id": "bf953ebeea20afe6",
   "outputs": [],
   "execution_count": 27
  },
  {
   "metadata": {
    "ExecuteTime": {
     "end_time": "2024-09-23T16:13:25.322364Z",
     "start_time": "2024-09-23T16:13:25.054616Z"
    }
   },
   "cell_type": "code",
   "source": [
    "# prepare the data in Python list form\n",
    "op_text_train = [\n",
    "    cleanup(original_post['selftext'])\n",
    "    for original_post\n",
    "    in original_posts_train\n",
    "]\n",
    "\n",
    "op_text_test = [\n",
    "    cleanup(original_post['selftext'])\n",
    "    for original_post\n",
    "    in original_posts_test\n",
    "]\n"
   ],
   "id": "c0f8ab8094f809a0",
   "outputs": [],
   "execution_count": 28
  },
  {
   "metadata": {
    "ExecuteTime": {
     "end_time": "2024-09-23T16:32:22.605607Z",
     "start_time": "2024-09-23T16:32:21.639735Z"
    }
   },
   "cell_type": "code",
   "source": [
    "# Vectorizing the text\n",
    "vect = TfidfVectorizer(use_idf=False, norm='l1')\n",
    "X_train = vect.fit_transform(op_text_train)\n",
    "print(f\"X_train shape: {X_train.shape}\")\n",
    "print(f\"Vocabulary size: {len(vect.vocabulary_)}\")"
   ],
   "id": "599b4fe0a6921195",
   "outputs": [
    {
     "name": "stdout",
     "output_type": "stream",
     "text": [
      "X_train shape: (10743, 48296)\n",
      "Vocabulary size: 48296\n"
     ]
    }
   ],
   "execution_count": 40
  },
  {
   "metadata": {},
   "cell_type": "code",
   "outputs": [],
   "execution_count": null,
   "source": [
    "vocab_size = len(vect.vocabulary_)\n",
    "print(f\"Vocabulary size: {vocab_size}\")"
   ],
   "id": "fad69e054ddc39"
  },
  {
   "metadata": {
    "ExecuteTime": {
     "end_time": "2024-09-23T16:16:27.435294Z",
     "start_time": "2024-09-23T16:15:53.835072Z"
    }
   },
   "cell_type": "code",
   "source": [
    "# Logistic Regression with Cross-Validation\n",
    "lr = LogisticRegressionCV(Cs=10, class_weight='balanced',\n",
    "                          scoring='roc_auc', solver='saga',  # 'saga' for better scalability\n",
    "                          tol=0.001, max_iter=500,\n",
    "                          random_state=0)\n",
    "is_malleable = np.array([post[\"delta_label\"] for post in original_posts_train])\n",
    "lr.fit(X_train, is_malleable)"
   ],
   "id": "5db1ce5be649e22f",
   "outputs": [
    {
     "data": {
      "text/plain": [
       "LogisticRegressionCV(class_weight='balanced', max_iter=500, random_state=0,\n",
       "                     scoring='roc_auc', solver='saga', tol=0.001)"
      ],
      "text/html": [
       "<style>#sk-container-id-2 {color: black;background-color: white;}#sk-container-id-2 pre{padding: 0;}#sk-container-id-2 div.sk-toggleable {background-color: white;}#sk-container-id-2 label.sk-toggleable__label {cursor: pointer;display: block;width: 100%;margin-bottom: 0;padding: 0.3em;box-sizing: border-box;text-align: center;}#sk-container-id-2 label.sk-toggleable__label-arrow:before {content: \"▸\";float: left;margin-right: 0.25em;color: #696969;}#sk-container-id-2 label.sk-toggleable__label-arrow:hover:before {color: black;}#sk-container-id-2 div.sk-estimator:hover label.sk-toggleable__label-arrow:before {color: black;}#sk-container-id-2 div.sk-toggleable__content {max-height: 0;max-width: 0;overflow: hidden;text-align: left;background-color: #f0f8ff;}#sk-container-id-2 div.sk-toggleable__content pre {margin: 0.2em;color: black;border-radius: 0.25em;background-color: #f0f8ff;}#sk-container-id-2 input.sk-toggleable__control:checked~div.sk-toggleable__content {max-height: 200px;max-width: 100%;overflow: auto;}#sk-container-id-2 input.sk-toggleable__control:checked~label.sk-toggleable__label-arrow:before {content: \"▾\";}#sk-container-id-2 div.sk-estimator input.sk-toggleable__control:checked~label.sk-toggleable__label {background-color: #d4ebff;}#sk-container-id-2 div.sk-label input.sk-toggleable__control:checked~label.sk-toggleable__label {background-color: #d4ebff;}#sk-container-id-2 input.sk-hidden--visually {border: 0;clip: rect(1px 1px 1px 1px);clip: rect(1px, 1px, 1px, 1px);height: 1px;margin: -1px;overflow: hidden;padding: 0;position: absolute;width: 1px;}#sk-container-id-2 div.sk-estimator {font-family: monospace;background-color: #f0f8ff;border: 1px dotted black;border-radius: 0.25em;box-sizing: border-box;margin-bottom: 0.5em;}#sk-container-id-2 div.sk-estimator:hover {background-color: #d4ebff;}#sk-container-id-2 div.sk-parallel-item::after {content: \"\";width: 100%;border-bottom: 1px solid gray;flex-grow: 1;}#sk-container-id-2 div.sk-label:hover label.sk-toggleable__label {background-color: #d4ebff;}#sk-container-id-2 div.sk-serial::before {content: \"\";position: absolute;border-left: 1px solid gray;box-sizing: border-box;top: 0;bottom: 0;left: 50%;z-index: 0;}#sk-container-id-2 div.sk-serial {display: flex;flex-direction: column;align-items: center;background-color: white;padding-right: 0.2em;padding-left: 0.2em;position: relative;}#sk-container-id-2 div.sk-item {position: relative;z-index: 1;}#sk-container-id-2 div.sk-parallel {display: flex;align-items: stretch;justify-content: center;background-color: white;position: relative;}#sk-container-id-2 div.sk-item::before, #sk-container-id-2 div.sk-parallel-item::before {content: \"\";position: absolute;border-left: 1px solid gray;box-sizing: border-box;top: 0;bottom: 0;left: 50%;z-index: -1;}#sk-container-id-2 div.sk-parallel-item {display: flex;flex-direction: column;z-index: 1;position: relative;background-color: white;}#sk-container-id-2 div.sk-parallel-item:first-child::after {align-self: flex-end;width: 50%;}#sk-container-id-2 div.sk-parallel-item:last-child::after {align-self: flex-start;width: 50%;}#sk-container-id-2 div.sk-parallel-item:only-child::after {width: 0;}#sk-container-id-2 div.sk-dashed-wrapped {border: 1px dashed gray;margin: 0 0.4em 0.5em 0.4em;box-sizing: border-box;padding-bottom: 0.4em;background-color: white;}#sk-container-id-2 div.sk-label label {font-family: monospace;font-weight: bold;display: inline-block;line-height: 1.2em;}#sk-container-id-2 div.sk-label-container {text-align: center;}#sk-container-id-2 div.sk-container {/* jupyter's `normalize.less` sets `[hidden] { display: none; }` but bootstrap.min.css set `[hidden] { display: none !important; }` so we also need the `!important` here to be able to override the default hidden behavior on the sphinx rendered scikit-learn.org. See: https://github.com/scikit-learn/scikit-learn/issues/21755 */display: inline-block !important;position: relative;}#sk-container-id-2 div.sk-text-repr-fallback {display: none;}</style><div id=\"sk-container-id-2\" class=\"sk-top-container\"><div class=\"sk-text-repr-fallback\"><pre>LogisticRegressionCV(class_weight=&#x27;balanced&#x27;, max_iter=500, random_state=0,\n",
       "                     scoring=&#x27;roc_auc&#x27;, solver=&#x27;saga&#x27;, tol=0.001)</pre><b>In a Jupyter environment, please rerun this cell to show the HTML representation or trust the notebook. <br />On GitHub, the HTML representation is unable to render, please try loading this page with nbviewer.org.</b></div><div class=\"sk-container\" hidden><div class=\"sk-item\"><div class=\"sk-estimator sk-toggleable\"><input class=\"sk-toggleable__control sk-hidden--visually\" id=\"sk-estimator-id-2\" type=\"checkbox\" checked><label for=\"sk-estimator-id-2\" class=\"sk-toggleable__label sk-toggleable__label-arrow\">LogisticRegressionCV</label><div class=\"sk-toggleable__content\"><pre>LogisticRegressionCV(class_weight=&#x27;balanced&#x27;, max_iter=500, random_state=0,\n",
       "                     scoring=&#x27;roc_auc&#x27;, solver=&#x27;saga&#x27;, tol=0.001)</pre></div></div></div></div></div>"
      ]
     },
     "execution_count": 36,
     "metadata": {},
     "output_type": "execute_result"
    }
   ],
   "execution_count": 36
  },
  {
   "metadata": {
    "ExecuteTime": {
     "end_time": "2024-09-23T16:16:27.588695Z",
     "start_time": "2024-09-23T16:16:27.436302Z"
    }
   },
   "cell_type": "code",
   "source": [
    "# Transform the test data\n",
    "X_test = vect.transform(op_text_test)\n",
    "\n",
    "# Extract the true labels for the test set\n",
    "is_malleable_test = np.array([post[\"delta_label\"] for post in original_posts_test])\n",
    "\n",
    "# Evaluating on the heldout data using roc_auc_score\n",
    "test_roc = roc_auc_score(is_malleable_test, lr.predict_proba(X_test)[:, 1])  # Updated to use roc_auc_score directly\n",
    "\n",
    "print(\"Test ROC AUC score: {:.3f}\".format(test_roc))"
   ],
   "id": "f91d6db6b5af57d5",
   "outputs": [
    {
     "name": "stdout",
     "output_type": "stream",
     "text": [
      "Test ROC AUC score: 0.531\n"
     ]
    }
   ],
   "execution_count": 37
  },
  {
   "metadata": {
    "ExecuteTime": {
     "end_time": "2024-09-23T16:34:43.291713Z",
     "start_time": "2024-09-23T16:34:43.270968Z"
    }
   },
   "cell_type": "code",
   "source": [
    "def top_features(coef, words, n=15):\n",
    "    # Sort coefficients in descending order\n",
    "    order = np.argsort(-coef)\n",
    "    for i_hi, i_lo in zip(order[:n], order[:-n - 1:-1]):\n",
    "        row_vals = coef[i_hi], words[i_hi], coef[i_lo], words[i_lo]\n",
    "        print(\"[{:>4.1f}] {:<20} [{:>4.1f}] {:<20}\".format(*row_vals))\n",
    "\n",
    "top_features(lr.coef_.flatten(), vect.get_feature_names_out())"
   ],
   "id": "a79763cff77de4a4",
   "outputs": [
    {
     "name": "stdout",
     "output_type": "stream",
     "text": [
      "[ 8.9] so                   [-9.1] its                 \n",
      "[ 7.2] even                 [-5.5] having              \n",
      "[ 5.5] feel                 [-5.3] anyone              \n",
      "[ 5.5] would                [-5.2] government          \n",
      "[ 5.4] being                [-5.2] our                 \n",
      "[ 5.4] more                 [-5.2] right               \n",
      "[ 5.3] please               [-5.1] anything            \n",
      "[ 5.2] ll                   [-5.0] nothing             \n",
      "[ 5.2] doesn                [-5.0] certain             \n",
      "[ 5.2] hard                 [-5.0] world               \n",
      "[ 5.1] when                 [-4.9] minimum             \n",
      "[ 4.9] system               [-4.8] we                  \n",
      "[ 4.6] philosophy           [-4.7] men                 \n",
      "[ 4.5] subject              [-4.6] life                \n",
      "[ 4.4] seems                [-4.5] population          \n"
     ]
    }
   ],
   "execution_count": 42
  },
  {
   "metadata": {},
   "cell_type": "code",
   "outputs": [],
   "execution_count": null,
   "source": [],
   "id": "236471fd3bb2f51c"
  }
 ],
 "metadata": {
  "kernelspec": {
   "display_name": "Python 3",
   "language": "python",
   "name": "python3"
  },
  "language_info": {
   "codemirror_mode": {
    "name": "ipython",
    "version": 2
   },
   "file_extension": ".py",
   "mimetype": "text/x-python",
   "name": "python",
   "nbconvert_exporter": "python",
   "pygments_lexer": "ipython2",
   "version": "2.7.6"
  }
 },
 "nbformat": 4,
 "nbformat_minor": 5
}
