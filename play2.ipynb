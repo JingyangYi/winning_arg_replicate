{
 "cells": [
  {
   "cell_type": "code",
   "id": "initial_id",
   "metadata": {
    "collapsed": true,
    "ExecuteTime": {
     "end_time": "2024-09-24T15:30:11.342304Z",
     "start_time": "2024-09-24T15:29:19.007381Z"
    }
   },
   "source": [
    "# load the data\n",
    "import tarfile\n",
    "import os.path\n",
    "import json\n",
    "import re\n",
    "from bz2 import BZ2File\n",
    "from urllib import request\n",
    "from io import BytesIO\n",
    "\n",
    "import numpy as np\n",
    "\n",
    "\n",
    "fname = \"cmv.tar.bz2\"\n",
    "url = \"https://chenhaot.com/data/cmv/\" + fname\n",
    "\n",
    "# download if not exists\n",
    "if not os.path.isfile(fname):\n",
    "    f = BytesIO()\n",
    "    with request.urlopen(url) as resp, open(fname, 'wb') as f_disk:\n",
    "        data = resp.read()\n",
    "        f_disk.write(data)  # save to disk too\n",
    "        f.write(data)\n",
    "        f.seek(0)\n",
    "else:\n",
    "    f = open(fname, 'rb')\n",
    "\n",
    "\n",
    "tar = tarfile.open(fileobj=f, mode=\"r\")\n",
    "\n",
    "# Extract the file we are interested in\n",
    "\n",
    "train_fname = \"pair_task/train_pair_data.jsonlist.bz2\"\n",
    "test_fname = \"pair_task/heldout_pair_data.jsonlist.bz2\"\n",
    "\n",
    "train_bzlist = tar.extractfile(train_fname)\n",
    "\n",
    "# Deserialize the JSON list\n",
    "pair_train = [\n",
    "    json.loads(line.decode('utf-8'))\n",
    "    for line in BZ2File(train_bzlist)\n",
    "]\n",
    "\n",
    "test_bzlist = tar.extractfile(test_fname)\n",
    "\n",
    "pair_test = [\n",
    "    json.loads(line.decode('utf-8'))\n",
    "    for line in BZ2File(test_bzlist)\n",
    "]\n",
    "f.close()"
   ],
   "outputs": [],
   "execution_count": 1
  },
  {
   "metadata": {
    "ExecuteTime": {
     "end_time": "2024-09-24T15:30:11.347223Z",
     "start_time": "2024-09-24T15:30:11.341564Z"
    }
   },
   "cell_type": "code",
   "source": [
    "pair_train[0].keys()"
   ],
   "id": "50abeac98b470798",
   "outputs": [
    {
     "data": {
      "text/plain": "dict_keys(['op_author', 'op_text', 'op_title', 'positive', 'negative', 'op_name'])"
     },
     "execution_count": 2,
     "metadata": {},
     "output_type": "execute_result"
    }
   ],
   "execution_count": 2
  },
  {
   "metadata": {
    "ExecuteTime": {
     "end_time": "2024-09-24T15:30:11.366401Z",
     "start_time": "2024-09-24T15:30:11.344992Z"
    }
   },
   "cell_type": "code",
   "source": [
    "pair_train[256]['negative']['comments'][0]['body']"
   ],
   "id": "b473d3ed91f61fe5",
   "outputs": [
    {
     "data": {
      "text/plain": "'I\\'d like to look at your assertion that you would be able to teach yourself or learn what you need to know for free. The problem is, the most valuable things you learn from college are going to be the things that you probably wouldn\\'t be able to teach yourself. An example: when I was a tutor at college, I heard complaints about the liberal arts education all the time. It was usually from math, science, computer science, etc, students who were really good at one thing: their major subject. They resented the fact that they had to take one or two writing classes in order to get their degree. The problem? The STEM folks who complained about liberal arts education were all terrible at writing. So bad, in fact, that they wouldn\\'t be able to function in the workplace because their writing was incomprehensible. I had several math and science professors complain to me that their students didn\\'t understand that there are so many other skills they need to learn in order to be successful: writing, teamwork, problem solving, awareness of basic facts about history, politics, etc.  It seems to me that the broad liberal arts education is designed with the idea that every student should graduate with basic skills and understanding in multiple areas so that they will be more flexible and successful. So, you may not need to go to college to learn the basics of botany, but any *botanist* will tell you that, to succeed in that career, you need at least an undergraduate degree and probably a masters or doctorate. Also, having been both a student and an instructor, I can tell you that academics don\\'t think students are mindless plebeians. They didn\\'t get into this business to simply reward and punish students for jumping through hoops, but if a student is only thinking about a class in terms of reward and punishment, and shows no interest in learning the material because the material is important or interesting, they won\\'t expend energy trying to change your view. If you go into a class thinking the thing that matters is getting an A, and you don\\'t care about the material, then you are the one putting yourself in a box.\\n\\nTL;DR: A liberal arts education is trying to take you out of the box you are already putting yourself in. Just teaching yourself the things that are easy for you to learn and ignoring the hard stuff isn\\'t going to help you in the long run. Also, you may consider yourself \"smart\" now, but if you don\\'t challenge yourself by stepping out of your box, you won\\'t be able to keep up with the people who do.'"
     },
     "execution_count": 3,
     "metadata": {},
     "output_type": "execute_result"
    }
   ],
   "execution_count": 3
  },
  {
   "metadata": {
    "ExecuteTime": {
     "end_time": "2024-09-24T15:30:11.382424Z",
     "start_time": "2024-09-24T15:30:11.355766Z"
    }
   },
   "cell_type": "code",
   "source": [
    "sum([len(line['op_text']) + len(line['positive']['comments'][0]['body']) for line in pair_train]) / len(pair_train)"
   ],
   "id": "87a6ca266d937883",
   "outputs": [
    {
     "data": {
      "text/plain": "3869.021122685185"
     },
     "execution_count": 4,
     "metadata": {},
     "output_type": "execute_result"
    }
   ],
   "execution_count": 4
  },
  {
   "metadata": {
    "ExecuteTime": {
     "end_time": "2024-09-24T16:01:30.626204Z",
     "start_time": "2024-09-24T16:01:30.494916Z"
    }
   },
   "cell_type": "code",
   "source": [
    "pair_train_text = [str('original posts: ' + pair_train[i]['op_text'] + '\\n\\n' +\n",
    "                   'reply 1: ' + pair_train[i]['positive']['comments'][0]['body'] + '\\n\\n' +\n",
    "                   'reply 2: ' + pair_train[i]['negative']['comments'][0]['body']) for i in range(len(pair_train))]\n",
    "print(pair_train_text[8])"
   ],
   "id": "c6709e153527ca4c",
   "outputs": [
    {
     "name": "stdout",
     "output_type": "stream",
     "text": [
      "original posts: Okay, I'm talking about making the human race smarter, forever.\n",
      "Intelligence is at least partially genetic and therefore passed down by parents, yes? [Yes.](http://www.the-scientist.com/?articles.view/articleNo/40459/title/Inherited-Intelligence/)\n",
      "\n",
      "So, what if, instead of killing off the less-intelligent people (I'm against killing. Of most things.) we just limit offspring?\n",
      "\n",
      "For example, we could use the IQ scale (for want of a better intelligence measure) to determine the number of offspring a person should be able to genetically contribute to.\n",
      "Like, round the IQ to the nearest multiple of 50, then divide by 50, and that's the number of offspring you're allowed to create.\n",
      "\n",
      "So someone with near average intelligence (near 100 IQ, 75-124) would have their IQ rounded to 100 and then divided by 50 to make 2 offspring. \n",
      "The total offspring is presumably equal to the number of people who contributed to it. A man and a woman with average IQ can have two children (not each.) and sustain their population.\n",
      "\n",
      "Conversely, really above average IQs of 125-174 can contribute genetically towards 3 children... and so on.\n",
      "\n",
      "This would eventually make the human race smarter, and therefore more likely to survive and advance the human race. \n",
      "\n",
      "I know this would be a bitch to implement and it's near impossible to actually do, but I'm just looking at the concept. I know the IQ test has its faults and every policy can be abused... I know all that.\n",
      "\n",
      "Exceptions would be made when you accidentally have twins which causes you to go over your limit, or etc. (If a mother can make 2, and has twins, she can't make more, but if she already has one and has twins after one which makes 3, we're not gonna kill one)\n",
      "\n",
      "Perhaps if you have a major, heritable health issue your IQ has 25 subtracted from it before being rounded? Or maybe weighted differently, like extremely high chance of cancer (almost 100 percent or something) takes off more... Something like that.\n",
      "\n",
      "Much better than \"Kill off those with IQ less than 80\"\n",
      "\n",
      "I wouldn't mind a smarter human race...\n",
      "\n",
      "EDIT: **I am trying to argue that this process, if not abused, if followed by the people, and if we found an increasingly accurate measure of intelligence, would be ultimately a good thing to advance the human race.**\n",
      "\n",
      "EDIT 2: \"**It looks to me like you've made so many exceptions to your main view that you aren't looking to have your view changed. I'd like to talk about the title of your post, but if you have to make so many exceptions to your view, then it seems you already know it's incorrect.**\" -nikeson\n",
      "I suppose that's true, now....\n",
      "_____\n",
      "\n",
      "&gt; *Hello, users of CMV! This is a footnote from your moderators. We'd just like to remind you of a couple of things. Firstly, please remember to* ***[read through our rules](http://www.reddit.com/r/changemyview/wiki/rules)***. *If you see a comment that has broken one, it is more effective to report it than downvote it. Speaking of which,* ***[downvotes don't change views](http://www.reddit.com/r/changemyview/wiki/guidelines#wiki_upvoting.2Fdownvoting)****! If you are thinking about submitting a CMV yourself, please have a look through our* ***[popular topics wiki](http://www.reddit.com/r/changemyview/wiki/populartopics)*** *first. Any questions or concerns? Feel free to* ***[message us](http://www.reddit.com/message/compose?to=/r/changemyview)***. *Happy CMVing!*\n",
      "\n",
      "reply 1: Every time a proposal like this comes up I am reminded of why it's such a bad idea: not because we couldn't do it, but because we don't yet have the wisdom to do it right. You've just laid out a manifesto for making the human race more intelligent, but nowhere in it have you questioned whether or not it's a good idea. *Why* do we need to be more intelligent? Why would a more intelligent society automatically be a better one? If we improve our brains in this one regard might we end up diminishing them in other, unanticipated, ways? We don't yet know enough about the biology of it to even speculate. Simply put, we are not ready for eugenics. \n",
      "\n",
      "reply 2: As you put it, the entire goal of eugenics is to make the human race more likely to advance and survive, but the irony of eugenics is that one of the best ways we can guarantee our survival is to maximize the size of our gene pool.  Eugenics makes the assumption that we know which genes are good and which genes are bad, and by maximizing the \"good\" genes and minimizing the \"bad\" genes, our society will be vastly better off.  On the surface, this seems like a good idea - eliminating cystic fibrosis or Lou Gehrig's disease from the gene pool by preventing people with these genes from breeding would strengthen the human race, right?  Except in the past few decades, advances in cystic fibrosis treatment have many people suffering from CF a near-normal life expectancy, and some people with Lou Gehrig's disease (I'm looking at you Stephen Hawking) have still managed to be some of the most influential minds of our generation.  \n",
      "\n",
      "I'm reminded of a story I was told in college about a young girl who had been diagnosed with late-stage rabies (which is pretty much always fatal when its caught so late).  Doctors were trying crazy treatments, like drastically lowering her body temperature to slow down the infection, in a last-ditch effort to save the girl.  Miraculously, she ended up surviving.  As doctors tried to figure out what they did to save the girl, they eventually discovered that she had a special mutation that essentially made her immune to rabies - while she was certainly sick, she was one of the very, very few people carrying the right gene that made rabies about as dangerous as the cold.  She may have had the highest IQ on earth, she may have had down syndrome.  But its feasible to think of a situation where her anti-rabies gene could make her genetic makeup crucial to \"making the human race more likely to advance and survive.\"\n",
      "\n",
      "TL;DR  Its very dangerous to start calling certain genes \"good\" and other genes \"bad.\"  Environment combines with genes to make a person who they are, and we're ultimately better off as a species if we have the largest gene pool possible.\n"
     ]
    }
   ],
   "execution_count": 8
  },
  {
   "metadata": {
    "ExecuteTime": {
     "end_time": "2024-09-24T04:29:41.947249Z",
     "start_time": "2024-09-24T04:29:31.825983Z"
    }
   },
   "cell_type": "code",
   "source": [
    "import nltk\n",
    "from nltk.corpus import stopwords\n",
    "from nltk.tokenize import word_tokenize\n",
    "\n",
    "nltk.download('stopwords')\n",
    "nltk.download('punkt')\n",
    "\n",
    "stopwords = set(stopwords.words('english'))\n",
    "\n",
    "pair_train_content = [' '.join(word for word in word_tokenize(line) if word not in stopwords) \n",
    "                      for line in pair_train_text]\n",
    "pair_train_content[6]"
   ],
   "id": "f6b967c67d6ebb11",
   "outputs": [
    {
     "name": "stderr",
     "output_type": "stream",
     "text": [
      "[nltk_data] Downloading package stopwords to\n",
      "[nltk_data]     C:\\Users\\Yi\\AppData\\Roaming\\nltk_data...\n",
      "[nltk_data]   Package stopwords is already up-to-date!\n",
      "[nltk_data] Downloading package punkt to\n",
      "[nltk_data]     C:\\Users\\Yi\\AppData\\Roaming\\nltk_data...\n",
      "[nltk_data]   Package punkt is already up-to-date!\n"
     ]
    },
    {
     "data": {
      "text/plain": [
       "\"original posts : As independent form study , philosophy n't seem practical applications . What value philosophy modern age , right , aside contemplating things . Is truly worth invest significant amount time money studying field ? There seem tangible applications appreciable benefits studying philosophy aside personal growth expansion one 's intellectual perspective , I argue gained without studying philosophy rigorously academic manner . I often read argument impossible argue philosophy useless without using philosophy , something along lines . I acknowledge . Yes , I engaging use philosophy right , moment . However , provide argument would worthwhile STUDY philosophy . What gain studying philosophy could gained thoughtful introspection ? Certainly , important tools originated philosophical study , scientific method , science could described subset philosophy n't argument lack tangible benefits gained studying philosophy . You n't need study philosophy become capable scientist . You n't need study philosophy cultivate reasonable set moral principles , thoughtful circumstances situations encounter life . EDIT : I n't expect many answers ! I 'll try read I get tired . _____ & gt ; * Hello , users CMV ! This footnote moderators . We 'd like remind couple things . Firstly , please remember * * * * [ read rules ] ( http : //www.reddit.com/r/changemyview/wiki/rules ) * * * . * If see comment broken one , effective report downvote . Speaking , * * * * [ downvotes n't change views ] ( http : //www.reddit.com/r/changemyview/wiki/guidelines # wiki_upvoting.2Fdownvoting ) * * * * ! If thinking submitting CMV , please look * * * * [ popular topics wiki ] ( http : //www.reddit.com/r/changemyview/wiki/populartopics ) * * * * first . Any questions concerns ? Feel free * * * * [ message us ] ( http : //www.reddit.com/message/compose ? to=/r/changemyview ) * * * . * Happy CMVing ! * reply 1 : Let take crack , someone philosophy degree ( Minor + Master 's ) job I find practical uses every single day things I studied Philosophy . One thing I found studying philosophy lot people ( even philosophers ) bit useless conception philosophy . There 's always talk 'Big Questions ' 'Deep Problems ' whatnot , I think misses point . Philosophy set methods concepts learn practice wield , methods concepts extremely useful sorts circumstances . What really learn ( rather , practically valuable thing learn ) become * expert * analytical thinking . That means things like : identifying hidden assumptions people 's reasoning , noticing informal formal logical fallacies generating counterexamples , identifying isolating distinct concepts people mistakenly superimposed , assessing things like knowability provability claim , identifying avoiding circular reasoning , formulating alternative possible explanations data underdetermines given theory . & gt ; What gain studying philosophy could gained thoughtful introspection ? The problem thoughtful introspection 're vulnerable bias . It 's difficult poke holes reasoning always think 're right . Studying philosophy opportunity practice poking holes arguments nuanced airtight ( n't get much 1st/2nd year courses ) , trained philosopher read poke holes reasoning . You get read arguments arguments see expert thinkers think . & gt ; You n't need study philosophy become capable scientist . Obviously , need study science ( though would surprised many leading scientists actively study philosophy ) . Science set methods concepts helps explore relationships things world . Philosophy , hand , set methods concepts helps explore * reasoning * . You call science need answer questions world works , call philosophers need know reason correctly unfamiliar conceptual territory . Most people n't need philosophy tell day-to-day basis , people n't encounter important unfamiliar moral choices day-to-day basis . But Hospitals hire philosophers ( Bioethicists ) help decide policies decisions affect people 's lives novel controversial ways ( e.g . stem cells , abortion , policies people vegetative states , etc. ) . Likewise , people 's lives sufficiently common boring thoughtful introspection fine ; , example , cutting edge businesses ( e.g . tech service start-ups ) rely previously untested reasoning , useful capable , trained set eyes thought process pull trigger . TL ; DR Philosophy like science reasoning , useful reason unfamiliar novel ways , new business ideas , medical practices , even science reply 2 : & gt ; What gain studying philosophy could gained thoughtful introspection ? Ask question math . Sure , knowledge basic numbers , could theoretically use numbers derive theorems geometry calculus , reinvent fields like engineering , create whole new mathematical principles simply thinking , math completely human invention . However , obviously foolish countless geniuses already made discoveries ; makes much sense learn 's already discovered , even ( especially ) hope make new discoveries . And assume person knows little math could come theories , strictly theoretically true , practically ridiculous . The goes philosophy . Sure , COULD use know world independently come Wittgenstein 's * Tractatus * , I bet wo n't , requires monumental amount existing philosophical knowledge impossible figure lifetime without prior reference . So reason alone virtually impossible reach high levels philosophy without first understanding foundations , studying philosophy worthwhile endeavor gives student access knowledge would highly arcane studied subject . But main argument seems studying philosophy waste time practical use . For one thing , assumption reason study something major field highly incorrect . Many people including leave college never use major real world . Some use college opportunity train professional skills , others see way grow people learn world general getting job longer opportunity . Both worthwhile notions , fact people choose study philosophy opposed `` useful '' majors proof existence highly desirable least people interested . The biggest takeaway I get post study philosophy , somewhat misunderstanding . Many people never studied subject believe learn philosophy sit around shooting shit hypothetical questions hackneyed moral quandaries . In actuality , philosophical education ( I minored took many classes major ) involved tons rigorous reading papers , included topics like AI theory , nature studies , tort law . The books extremely dense , , built backs thousands years preceding philosophy , making doubly important study subject order make advanced knowledge accessible . At end day , even n't buy arguments , fact remains philosophy worthwhile people see value taking expand horizons well change way view world . Simply providing new modes thought analysis alter way see everything else world , sense , philosophy actually transformative helpful subject .\""
      ]
     },
     "execution_count": 50,
     "metadata": {},
     "output_type": "execute_result"
    }
   ],
   "execution_count": 50
  },
  {
   "metadata": {
    "ExecuteTime": {
     "end_time": "2024-09-24T04:31:55.259231Z",
     "start_time": "2024-09-24T04:31:55.255426Z"
    }
   },
   "cell_type": "code",
   "source": [
    "sum([len(line) for line in pair_train_content]) / len(pair_train_content)"
   ],
   "id": "248981f0af05a29a",
   "outputs": [
    {
     "data": {
      "text/plain": [
       "3789.7106481481483"
      ]
     },
     "execution_count": 51,
     "metadata": {},
     "output_type": "execute_result"
    }
   ],
   "execution_count": 51
  },
  {
   "metadata": {
    "ExecuteTime": {
     "end_time": "2024-09-24T03:01:25.413491Z",
     "start_time": "2024-09-24T03:01:25.084013Z"
    }
   },
   "cell_type": "code",
   "source": [
    "from IPython.display import Markdown\n",
    "def show_post(cmv_post):\n",
    "    md_format = \"**{title}** \\n\\n {selftext}\".format(**cmv_post)\n",
    "    md_format = \"\\n\".join([\"> \" + line for line in md_format.splitlines()])\n",
    "    return Markdown(md_format)\n",
    "show_post(pair_train[250])"
   ],
   "id": "6a6870b1aefbce04",
   "outputs": [
    {
     "ename": "KeyError",
     "evalue": "'title'",
     "output_type": "error",
     "traceback": [
      "\u001B[1;31m---------------------------------------------------------------------------\u001B[0m",
      "\u001B[1;31mKeyError\u001B[0m                                  Traceback (most recent call last)",
      "Cell \u001B[1;32mIn[4], line 6\u001B[0m\n\u001B[0;32m      4\u001B[0m     md_format \u001B[38;5;241m=\u001B[39m \u001B[38;5;124m\"\u001B[39m\u001B[38;5;130;01m\\n\u001B[39;00m\u001B[38;5;124m\"\u001B[39m\u001B[38;5;241m.\u001B[39mjoin([\u001B[38;5;124m\"\u001B[39m\u001B[38;5;124m> \u001B[39m\u001B[38;5;124m\"\u001B[39m \u001B[38;5;241m+\u001B[39m line \u001B[38;5;28;01mfor\u001B[39;00m line \u001B[38;5;129;01min\u001B[39;00m md_format\u001B[38;5;241m.\u001B[39msplitlines()])\n\u001B[0;32m      5\u001B[0m     \u001B[38;5;28;01mreturn\u001B[39;00m Markdown(md_format)\n\u001B[1;32m----> 6\u001B[0m show_post(pair_train[\u001B[38;5;241m250\u001B[39m])\n",
      "Cell \u001B[1;32mIn[4], line 3\u001B[0m, in \u001B[0;36mshow_post\u001B[1;34m(cmv_post)\u001B[0m\n\u001B[0;32m      2\u001B[0m \u001B[38;5;28;01mdef\u001B[39;00m \u001B[38;5;21mshow_post\u001B[39m(cmv_post):\n\u001B[1;32m----> 3\u001B[0m     md_format \u001B[38;5;241m=\u001B[39m \u001B[38;5;124m\"\u001B[39m\u001B[38;5;124m**\u001B[39m\u001B[38;5;132;01m{title}\u001B[39;00m\u001B[38;5;124m** \u001B[39m\u001B[38;5;130;01m\\n\u001B[39;00m\u001B[38;5;130;01m\\n\u001B[39;00m\u001B[38;5;124m \u001B[39m\u001B[38;5;132;01m{selftext}\u001B[39;00m\u001B[38;5;124m\"\u001B[39m\u001B[38;5;241m.\u001B[39mformat(\u001B[38;5;241m*\u001B[39m\u001B[38;5;241m*\u001B[39mcmv_post)\n\u001B[0;32m      4\u001B[0m     md_format \u001B[38;5;241m=\u001B[39m \u001B[38;5;124m\"\u001B[39m\u001B[38;5;130;01m\\n\u001B[39;00m\u001B[38;5;124m\"\u001B[39m\u001B[38;5;241m.\u001B[39mjoin([\u001B[38;5;124m\"\u001B[39m\u001B[38;5;124m> \u001B[39m\u001B[38;5;124m\"\u001B[39m \u001B[38;5;241m+\u001B[39m line \u001B[38;5;28;01mfor\u001B[39;00m line \u001B[38;5;129;01min\u001B[39;00m md_format\u001B[38;5;241m.\u001B[39msplitlines()])\n\u001B[0;32m      5\u001B[0m     \u001B[38;5;28;01mreturn\u001B[39;00m Markdown(md_format)\n",
      "\u001B[1;31mKeyError\u001B[0m: 'title'"
     ]
    }
   ],
   "execution_count": 4
  },
  {
   "metadata": {},
   "cell_type": "code",
   "outputs": [],
   "execution_count": null,
   "source": [],
   "id": "9954e1305d45c781"
  }
 ],
 "metadata": {
  "kernelspec": {
   "display_name": "Python 3",
   "language": "python",
   "name": "python3"
  },
  "language_info": {
   "codemirror_mode": {
    "name": "ipython",
    "version": 2
   },
   "file_extension": ".py",
   "mimetype": "text/x-python",
   "name": "python",
   "nbconvert_exporter": "python",
   "pygments_lexer": "ipython2",
   "version": "2.7.6"
  }
 },
 "nbformat": 4,
 "nbformat_minor": 5
}
