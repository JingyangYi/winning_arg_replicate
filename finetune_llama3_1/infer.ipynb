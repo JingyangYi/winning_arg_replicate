{
 "cells": [
  {
   "cell_type": "code",
   "execution_count": 3,
   "outputs": [],
   "source": [
    "import tarfile\n",
    "import json\n",
    "from bz2 import BZ2File\n",
    "\n",
    "\n",
    "def extract_jsonlist(tar_path, file_name):\n",
    "    with tarfile.open(tar_path, mode='r') as tar:\n",
    "        bz2_file = tar.extractfile(file_name)\n",
    "        return [json.loads(line.decode('utf-8')) for line in BZ2File(bz2_file)]\n",
    "\n",
    "\n",
    "# File paths\n",
    "fname = \"../cmv.tar.bz2\"\n",
    "train_fname = \"op_task/train_op_data.jsonlist.bz2\"\n",
    "test_fname = \"op_task/heldout_op_data.jsonlist.bz2\"\n",
    "\n",
    "# Extract and deserialize the JSON lists\n",
    "original_posts_train = extract_jsonlist(fname, train_fname)\n",
    "original_posts_test = extract_jsonlist(fname, test_fname)\n",
    "\n",
    "\n",
    "def cleanup(cmv_post):\n",
    "    lines = [line for line in cmv_post.splitlines()\n",
    "             if not line.lstrip().startswith(\"&gt;\")\n",
    "             and not line.lstrip().startswith(\"____\")\n",
    "             and \"edit\" not in \" \".join(line.lower().split()[:2])\n",
    "             ]\n",
    "    return \"\\n\".join(lines)\n",
    "\n",
    "\n",
    "def clean_dataset(dataset):\n",
    "    for i in range(len(dataset)):\n",
    "        dataset[i]['selftext'] = cleanup(dataset[i]['selftext'])\n",
    "    return dataset\n",
    "\n",
    "\n",
    "original_posts_train = clean_dataset(original_posts_train)\n",
    "original_posts_test = clean_dataset(original_posts_test)"
   ],
   "metadata": {
    "collapsed": false,
    "ExecuteTime": {
     "end_time": "2024-09-26T14:43:02.532143Z",
     "start_time": "2024-09-26T14:40:20.443408Z"
    }
   },
   "id": "8decdd219d7ea30b"
  },
  {
   "cell_type": "code",
   "execution_count": 26,
   "outputs": [
    {
     "data": {
      "text/plain": "delta_label\nFalse    3191\nTrue     3191\nName: count, dtype: int64"
     },
     "execution_count": 26,
     "metadata": {},
     "output_type": "execute_result"
    }
   ],
   "source": [
    "def create_balanced_dataset(dataset):\n",
    "    import pandas as pd\n",
    "    df = pd.DataFrame(dataset, columns=['title', 'delta_label', 'name', 'selftext'])\n",
    "    is_malleable = df['delta_label']\n",
    "    n_false, n_true = is_malleable.value_counts()\n",
    "    min_n_samples = min(n_false, n_true)\n",
    "    malleable = df[is_malleable].sample(n=min_n_samples,\n",
    "                                        random_state=42)\n",
    "    not_malleable = df[~is_malleable].sample(n=min_n_samples,\n",
    "                                             random_state=42)\n",
    "    df_balanced = pd.concat([malleable, not_malleable])\n",
    "    # shuffle the dataframe\n",
    "    df_balanced = df_balanced.sample(frac=1).reset_index(drop=True)\n",
    "    return df_balanced\n",
    "\n",
    "original_posts_train = create_balanced_dataset(original_posts_train)\n",
    "original_posts_test = create_balanced_dataset(original_posts_test)"
   ],
   "metadata": {
    "collapsed": false,
    "ExecuteTime": {
     "end_time": "2024-09-26T14:59:09.515945Z",
     "start_time": "2024-09-26T14:59:09.469464Z"
    }
   },
   "id": "3ac3e5640fad96c"
  },
  {
   "cell_type": "code",
   "execution_count": 10,
   "outputs": [
    {
     "ename": "TypeError",
     "evalue": "bad operand type for unary ~: 'list'",
     "output_type": "error",
     "traceback": [
      "\u001B[0;31m---------------------------------------------------------------------------\u001B[0m",
      "\u001B[0;31mTypeError\u001B[0m                                 Traceback (most recent call last)",
      "Cell \u001B[0;32mIn[10], line 3\u001B[0m\n\u001B[1;32m      1\u001B[0m x \u001B[38;5;241m=\u001B[39m [\u001B[38;5;241m1\u001B[39m,\u001B[38;5;241m2\u001B[39m,\u001B[38;5;241m3\u001B[39m,\u001B[38;5;241m4\u001B[39m,\u001B[38;5;241m5\u001B[39m]\n\u001B[1;32m      2\u001B[0m i \u001B[38;5;241m=\u001B[39m [\u001B[38;5;28;01mTrue\u001B[39;00m, \u001B[38;5;28;01mTrue\u001B[39;00m, \u001B[38;5;28;01mTrue\u001B[39;00m, \u001B[38;5;28;01mFalse\u001B[39;00m, \u001B[38;5;28;01mTrue\u001B[39;00m]\n\u001B[0;32m----> 3\u001B[0m \u001B[38;5;28mlen\u001B[39m(\u001B[38;5;241m~\u001B[39mi)\n",
      "\u001B[0;31mTypeError\u001B[0m: bad operand type for unary ~: 'list'"
     ]
    }
   ],
   "source": [
    "x = [1,2,3,4,5]\n",
    "i = [True, True, True, False, True]"
   ],
   "metadata": {
    "collapsed": false,
    "ExecuteTime": {
     "end_time": "2024-09-26T14:46:37.091084Z",
     "start_time": "2024-09-26T14:46:37.064228Z"
    }
   },
   "id": "eb44fcdbb8104648"
  },
  {
   "cell_type": "code",
   "execution_count": null,
   "outputs": [],
   "source": [],
   "metadata": {
    "collapsed": false
   },
   "id": "cec47447037d949e"
  }
 ],
 "metadata": {
  "kernelspec": {
   "display_name": "Python 3",
   "language": "python",
   "name": "python3"
  },
  "language_info": {
   "codemirror_mode": {
    "name": "ipython",
    "version": 2
   },
   "file_extension": ".py",
   "mimetype": "text/x-python",
   "name": "python",
   "nbconvert_exporter": "python",
   "pygments_lexer": "ipython2",
   "version": "2.7.6"
  }
 },
 "nbformat": 4,
 "nbformat_minor": 5
}
