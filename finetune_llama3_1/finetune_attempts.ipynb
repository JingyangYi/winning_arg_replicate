{
 "cells": [
  {
   "metadata": {
    "ExecuteTime": {
     "end_time": "2024-09-29T20:11:22.781167Z",
     "start_time": "2024-09-29T20:11:12.925846Z"
    }
   },
   "cell_type": "code",
   "source": [
    "from bokeh.colors.named import linen\n",
    "%%capture\n",
    "!pip install unsloth\n",
    "# Also get the latest nightly Unsloth!\n",
    "!pip uninstall unsloth -y && pip install --upgrade --no-cache-dir \"unsloth[colab-new] @ git+https://github.com/unslothai/unsloth.git\""
   ],
   "id": "e30a85313aca9fe0",
   "outputs": [],
   "execution_count": 1
  },
  {
   "metadata": {
    "ExecuteTime": {
     "end_time": "2024-10-01T05:26:37.660273Z",
     "start_time": "2024-10-01T05:26:31.248620Z"
    }
   },
   "cell_type": "code",
   "source": [
    "from unsloth import FastLanguageModel\n",
    "import torch\n",
    "max_seq_length = 3000 # Choose any! We auto support RoPE Scaling internally!\n",
    "dtype = None # None for auto detection. Float16 for Tesla T4, V100, Bfloat16 for Ampere+\n",
    "load_in_4bit = True # Use 4bit quantization to reduce memory usage. Can be False.\n",
    "\n",
    "model_original, tokenizer = FastLanguageModel.from_pretrained(\n",
    "    model_name = \"unsloth/Meta-Llama-3.1-8B\",\n",
    "    max_seq_length = max_seq_length,\n",
    "    dtype = dtype,\n",
    "    load_in_4bit = load_in_4bit,\n",
    "    # token = \"hf_...\", # use one if using gated models like meta-llama/Llama-2-7b-hf\n",
    ")"
   ],
   "id": "d523c086728edf56",
   "outputs": [
    {
     "name": "stdout",
     "output_type": "stream",
     "text": [
      "🦥 Unsloth: Will patch your computer to enable 2x faster free finetuning.\n",
      "==((====))==  Unsloth 2024.9.post3: Fast Llama patching. Transformers = 4.45.1.\n",
      "   \\\\   /|    GPU: NVIDIA GeForce RTX 4070 Ti SUPER. Max memory: 15.688 GB. Platform = Linux.\n",
      "O^O/ \\_/ \\    Pytorch: 2.4.1+cu124. CUDA = 8.9. CUDA Toolkit = 12.4.\n",
      "\\        /    Bfloat16 = TRUE. FA [Xformers = 0.0.28.post1. FA2 = False]\n",
      " \"-____-\"     Free Apache license: http://github.com/unslothai/unsloth\n"
     ]
    },
    {
     "name": "stderr",
     "output_type": "stream",
     "text": [
      "<string>:204: SyntaxWarning: invalid escape sequence '\\ '\n",
      "<string>:205: SyntaxWarning: invalid escape sequence '\\_'\n",
      "<string>:206: SyntaxWarning: invalid escape sequence '\\ '\n",
      "<string>:204: SyntaxWarning: invalid escape sequence '\\ '\n",
      "<string>:205: SyntaxWarning: invalid escape sequence '\\_'\n",
      "<string>:206: SyntaxWarning: invalid escape sequence '\\ '\n"
     ]
    }
   ],
   "execution_count": 1
  },
  {
   "metadata": {
    "ExecuteTime": {
     "end_time": "2024-10-01T05:26:39.347640Z",
     "start_time": "2024-10-01T05:26:37.661114Z"
    }
   },
   "cell_type": "code",
   "source": [
    "model = FastLanguageModel.get_peft_model(\n",
    "    model_original,\n",
    "    r = 16, # Choose any number > 0 ! Suggested 8, 16, 32, 64, 128\n",
    "    target_modules = [\"q_proj\", \"k_proj\", \"v_proj\", \"o_proj\",\n",
    "                      \"gate_proj\", \"up_proj\", \"down_proj\",],\n",
    "    lora_alpha = 16,\n",
    "    lora_dropout = 0, # Supports any, but = 0 is optimized\n",
    "    bias = \"none\",    # Supports any, but = \"none\" is optimized\n",
    "    # [NEW] \"unsloth\" uses 30% less VRAM, fits 2x larger batch sizes!\n",
    "    use_gradient_checkpointing = \"unsloth\", # True or \"unsloth\" for very long context\n",
    "    random_state = 3407,\n",
    "    use_rslora = False,  # We support rank stabilized LoRA\n",
    "    loftq_config = None, # And LoftQ\n",
    ")"
   ],
   "id": "67d95eda7371e81f",
   "outputs": [
    {
     "name": "stderr",
     "output_type": "stream",
     "text": [
      "Unsloth 2024.9.post3 patched 32 layers with 32 QKV layers, 32 O layers and 32 MLP layers.\n"
     ]
    }
   ],
   "execution_count": 2
  },
  {
   "metadata": {
    "ExecuteTime": {
     "end_time": "2024-10-01T05:26:39.349687Z",
     "start_time": "2024-10-01T05:26:39.348124Z"
    }
   },
   "cell_type": "code",
   "source": [
    "alpaca_prompt = \"\"\"Below is an instruction that describes a task, paired with an input that provides further context. Write a response that appropriately completes the request.\n",
    "\n",
    "### Instruction:\n",
    "{}\n",
    "\n",
    "### Input:\n",
    "{}\n",
    "\n",
    "### Response:\n",
    "{}\"\"\"\n",
    "\n",
    "EOS_TOKEN = tokenizer.eos_token # Must add EOS_TOKEN"
   ],
   "id": "cd8cd9e0accb1147",
   "outputs": [],
   "execution_count": 3
  },
  {
   "cell_type": "code",
   "source": [
    "op_instruction = \"You're a semantic analyst. Now I will show you a person's opinion statement, who publicly announced his/her argument and encouraged other people to challenge it. Judging from his/her speeching style and lexical features, do you think he/she is resistant or malleable to persuasion? First answer with resistant or malleable, then very briefly explain your analysis.\"\n",
    "\n",
    "pairs_instruction = \"This is a conversation from an online discussion community. The first was a poster who posted an opinion, and the next two replies were each trying to convince the poster to revise his opinion. We know that the {truth} reply successfully persuaded the poster. How might his/her speeching style and lexical features suggest his/her persuasiveness? {knowledge} Very briefly explain your analysis with no more than 1000 tokens.\""
   ],
   "metadata": {
    "collapsed": false,
    "ExecuteTime": {
     "end_time": "2024-10-01T05:26:39.362209Z",
     "start_time": "2024-10-01T05:26:39.350517Z"
    }
   },
   "id": "930dccf9775dec18",
   "outputs": [],
   "execution_count": 4
  },
  {
   "cell_type": "markdown",
   "source": [
    "# Prepare Datasets for OP and Pairs"
   ],
   "metadata": {
    "collapsed": false
   },
   "id": "1f6b829b292a50fc"
  },
  {
   "cell_type": "code",
   "source": [
    "with open(\"op_gpt_explanations.jsonl\", \"r\") as f:\n",
    "    import json\n",
    "    explanations = [json.loads(line) for line in f]\n",
    "    \n",
    "def formatting_prompts_func(dataset):\n",
    "    inputs = dataset[\"input\"]\n",
    "    outputs = [line + '\\n' + exp for line, exp in zip(dataset[\"output\"], explanations)]\n",
    "    instructions = [op_instruction] * len(inputs)\n",
    "    texts = []\n",
    "    for instruction, input, output in zip(instructions, inputs, outputs):\n",
    "        # Must add EOS_TOKEN, otherwise your generation will go on forever!\n",
    "        text = alpaca_prompt.format(instruction, input, output) + EOS_TOKEN\n",
    "        texts.append(text)\n",
    "    return { \"text\" : texts, }\n",
    "\n",
    "from datasets import load_dataset\n",
    "op_dataset = load_dataset(\"json\", data_files={\"train\": \"op_train_alpaca.jsonl\",\n",
    "                                           \"test\": \"op_test_alpaca.jsonl\",})\n",
    "\n",
    "op_dataset_train = op_dataset[\"train\"]\n",
    "op_dataset_train = op_dataset_train.map(formatting_prompts_func, batched=True)"
   ],
   "metadata": {
    "collapsed": false,
    "ExecuteTime": {
     "end_time": "2024-10-01T05:26:39.571294Z",
     "start_time": "2024-10-01T05:26:39.363008Z"
    }
   },
   "id": "d1084372349b1a54",
   "outputs": [],
   "execution_count": 5
  },
  {
   "cell_type": "code",
   "source": [
    "with open(\"pairs_gpt_explanations.jsonl\", \"r\") as f:\n",
    "    import json\n",
    "    explanations = [json.loads(line) for line in f]\n",
    "    \n",
    "knowledge = \"Hint: 1. Reply Length: Longer replies tend to be more persuasive, as they can convey more information and elaborate on points effectively. 2. Language Dissimilarity with Original Post: Persuasive replies use different content words but match in stopwords. 3. Links and Evidence: Including links as evidence in an argument increases the chances of persuasion. 4. Calmer Tone: Replies that use calmer, less intense language are more likely to persuade, as they come across as more composed. 5. Positive Emotion and Sentiment: Persuasive replies include a mix of positive and negative sentiment.\"\n",
    "\n",
    "def formatting_prompts_func(dataset):\n",
    "    inputs = dataset[\"input\"]\n",
    "    outputs = [line + '\\n' + exp for line, exp in zip(dataset[\"output\"], explanations)]\n",
    "    instructions = [pairs_instruction + knowledge]  * len(inputs)\n",
    "    texts = []\n",
    "    for instruction, input, output in zip(instructions, inputs, outputs):\n",
    "        # Must add EOS_TOKEN, otherwise your generation will go on forever!\n",
    "        text = alpaca_prompt.format(instruction, input, output) + EOS_TOKEN\n",
    "        texts.append(text)\n",
    "    return { \"text\" : texts, }\n",
    "\n",
    "from datasets import load_dataset\n",
    "pairs_dataset = load_dataset(\"json\", data_files={\"train\": \"pairs_train_alpaca.jsonl\",\n",
    "                                           \"test\": \"pairs_test_alpaca.jsonl\",})\n",
    "\n",
    "pairs_dataset_train = pairs_dataset[\"train\"]\n",
    "pairs_dataset_train = pairs_dataset_train.map(formatting_prompts_func, batched=True)"
   ],
   "metadata": {
    "collapsed": false,
    "ExecuteTime": {
     "end_time": "2024-10-01T05:26:39.625898Z",
     "start_time": "2024-10-01T05:26:39.571745Z"
    }
   },
   "id": "a9e0beb16d88d3ec",
   "outputs": [],
   "execution_count": 6
  },
  {
   "cell_type": "markdown",
   "source": [
    "# Training"
   ],
   "metadata": {
    "collapsed": false
   },
   "id": "38e06508546ce647"
  },
  {
   "metadata": {
    "ExecuteTime": {
     "end_time": "2024-10-01T05:26:39.739079Z",
     "start_time": "2024-10-01T05:26:39.626396Z"
    }
   },
   "cell_type": "code",
   "source": [
    "from trl import SFTTrainer\n",
    "from transformers import TrainingArguments\n",
    "from unsloth import is_bfloat16_supported\n",
    "\n",
    "trainer = SFTTrainer(\n",
    "    model = model,\n",
    "    tokenizer = tokenizer,\n",
    "    train_dataset = pairs_dataset_train, # Change this to pairs_dataset_train for pairs training\n",
    "    dataset_text_field = \"text\",\n",
    "    max_seq_length = max_seq_length,\n",
    "    dataset_num_proc = 2,\n",
    "    packing = False, # Can make training 5x faster for short sequences.\n",
    "    args = TrainingArguments(\n",
    "        per_device_train_batch_size = 1,\n",
    "        gradient_accumulation_steps = 4,\n",
    "        warmup_steps = 5,\n",
    "        # num_train_epochs = 1, # Set this for 1 full training run.\n",
    "        max_steps = 60,\n",
    "        learning_rate = 2e-4,\n",
    "        fp16 = not is_bfloat16_supported(),\n",
    "        bf16 = is_bfloat16_supported(),\n",
    "        logging_steps = 1,\n",
    "        optim = \"adamw_8bit\",\n",
    "        weight_decay = 0.01,\n",
    "        lr_scheduler_type = \"linear\",\n",
    "        seed = 3407,\n",
    "        output_dir = \"outputs\",\n",
    "    ),\n",
    ")"
   ],
   "id": "e95e112af4177681",
   "outputs": [
    {
     "name": "stderr",
     "output_type": "stream",
     "text": [
      "max_steps is given, it will override any value given in num_train_epochs\n"
     ]
    }
   ],
   "execution_count": 7
  },
  {
   "metadata": {
    "ExecuteTime": {
     "end_time": "2024-10-01T05:31:09.382264Z",
     "start_time": "2024-10-01T05:26:40.571142Z"
    }
   },
   "cell_type": "code",
   "source": [
    "trainer_stats = trainer.train()"
   ],
   "id": "3f8a93b9d366009f",
   "outputs": [
    {
     "name": "stderr",
     "output_type": "stream",
     "text": [
      "==((====))==  Unsloth - 2x faster free finetuning | Num GPUs = 1\n",
      "   \\\\   /|    Num examples = 1,000 | Num Epochs = 1\n",
      "O^O/ \\_/ \\    Batch size per device = 1 | Gradient Accumulation steps = 4\n",
      "\\        /    Total batch size = 4 | Total steps = 60\n",
      " \"-____-\"     Number of trainable parameters = 41,943,040\n"
     ]
    },
    {
     "data": {
      "text/plain": [
       "<IPython.core.display.HTML object>"
      ],
      "text/html": [
       "\n",
       "    <div>\n",
       "      \n",
       "      <progress value='60' max='60' style='width:300px; height:20px; vertical-align: middle;'></progress>\n",
       "      [60/60 04:23, Epoch 0/1]\n",
       "    </div>\n",
       "    <table border=\"1\" class=\"dataframe\">\n",
       "  <thead>\n",
       " <tr style=\"text-align: left;\">\n",
       "      <th>Step</th>\n",
       "      <th>Training Loss</th>\n",
       "    </tr>\n",
       "  </thead>\n",
       "  <tbody>\n",
       "    <tr>\n",
       "      <td>1</td>\n",
       "      <td>2.343500</td>\n",
       "    </tr>\n",
       "    <tr>\n",
       "      <td>2</td>\n",
       "      <td>2.407800</td>\n",
       "    </tr>\n",
       "    <tr>\n",
       "      <td>3</td>\n",
       "      <td>2.361700</td>\n",
       "    </tr>\n",
       "    <tr>\n",
       "      <td>4</td>\n",
       "      <td>2.270100</td>\n",
       "    </tr>\n",
       "    <tr>\n",
       "      <td>5</td>\n",
       "      <td>2.366400</td>\n",
       "    </tr>\n",
       "    <tr>\n",
       "      <td>6</td>\n",
       "      <td>2.382800</td>\n",
       "    </tr>\n",
       "    <tr>\n",
       "      <td>7</td>\n",
       "      <td>2.289400</td>\n",
       "    </tr>\n",
       "    <tr>\n",
       "      <td>8</td>\n",
       "      <td>2.073400</td>\n",
       "    </tr>\n",
       "    <tr>\n",
       "      <td>9</td>\n",
       "      <td>2.031300</td>\n",
       "    </tr>\n",
       "    <tr>\n",
       "      <td>10</td>\n",
       "      <td>1.980000</td>\n",
       "    </tr>\n",
       "    <tr>\n",
       "      <td>11</td>\n",
       "      <td>1.902800</td>\n",
       "    </tr>\n",
       "    <tr>\n",
       "      <td>12</td>\n",
       "      <td>1.789000</td>\n",
       "    </tr>\n",
       "    <tr>\n",
       "      <td>13</td>\n",
       "      <td>1.697100</td>\n",
       "    </tr>\n",
       "    <tr>\n",
       "      <td>14</td>\n",
       "      <td>1.584500</td>\n",
       "    </tr>\n",
       "    <tr>\n",
       "      <td>15</td>\n",
       "      <td>1.775000</td>\n",
       "    </tr>\n",
       "    <tr>\n",
       "      <td>16</td>\n",
       "      <td>1.829700</td>\n",
       "    </tr>\n",
       "    <tr>\n",
       "      <td>17</td>\n",
       "      <td>1.720700</td>\n",
       "    </tr>\n",
       "    <tr>\n",
       "      <td>18</td>\n",
       "      <td>1.718200</td>\n",
       "    </tr>\n",
       "    <tr>\n",
       "      <td>19</td>\n",
       "      <td>1.628400</td>\n",
       "    </tr>\n",
       "    <tr>\n",
       "      <td>20</td>\n",
       "      <td>1.709800</td>\n",
       "    </tr>\n",
       "    <tr>\n",
       "      <td>21</td>\n",
       "      <td>1.660100</td>\n",
       "    </tr>\n",
       "    <tr>\n",
       "      <td>22</td>\n",
       "      <td>1.686600</td>\n",
       "    </tr>\n",
       "    <tr>\n",
       "      <td>23</td>\n",
       "      <td>1.602600</td>\n",
       "    </tr>\n",
       "    <tr>\n",
       "      <td>24</td>\n",
       "      <td>1.661800</td>\n",
       "    </tr>\n",
       "    <tr>\n",
       "      <td>25</td>\n",
       "      <td>1.557300</td>\n",
       "    </tr>\n",
       "    <tr>\n",
       "      <td>26</td>\n",
       "      <td>1.687700</td>\n",
       "    </tr>\n",
       "    <tr>\n",
       "      <td>27</td>\n",
       "      <td>1.533700</td>\n",
       "    </tr>\n",
       "    <tr>\n",
       "      <td>28</td>\n",
       "      <td>1.691000</td>\n",
       "    </tr>\n",
       "    <tr>\n",
       "      <td>29</td>\n",
       "      <td>1.450100</td>\n",
       "    </tr>\n",
       "    <tr>\n",
       "      <td>30</td>\n",
       "      <td>1.781300</td>\n",
       "    </tr>\n",
       "    <tr>\n",
       "      <td>31</td>\n",
       "      <td>1.628900</td>\n",
       "    </tr>\n",
       "    <tr>\n",
       "      <td>32</td>\n",
       "      <td>1.763500</td>\n",
       "    </tr>\n",
       "    <tr>\n",
       "      <td>33</td>\n",
       "      <td>1.766600</td>\n",
       "    </tr>\n",
       "    <tr>\n",
       "      <td>34</td>\n",
       "      <td>1.726500</td>\n",
       "    </tr>\n",
       "    <tr>\n",
       "      <td>35</td>\n",
       "      <td>1.737100</td>\n",
       "    </tr>\n",
       "    <tr>\n",
       "      <td>36</td>\n",
       "      <td>1.565900</td>\n",
       "    </tr>\n",
       "    <tr>\n",
       "      <td>37</td>\n",
       "      <td>1.444200</td>\n",
       "    </tr>\n",
       "    <tr>\n",
       "      <td>38</td>\n",
       "      <td>1.732000</td>\n",
       "    </tr>\n",
       "    <tr>\n",
       "      <td>39</td>\n",
       "      <td>1.728300</td>\n",
       "    </tr>\n",
       "    <tr>\n",
       "      <td>40</td>\n",
       "      <td>1.901800</td>\n",
       "    </tr>\n",
       "    <tr>\n",
       "      <td>41</td>\n",
       "      <td>1.650700</td>\n",
       "    </tr>\n",
       "    <tr>\n",
       "      <td>42</td>\n",
       "      <td>1.557800</td>\n",
       "    </tr>\n",
       "    <tr>\n",
       "      <td>43</td>\n",
       "      <td>1.621100</td>\n",
       "    </tr>\n",
       "    <tr>\n",
       "      <td>44</td>\n",
       "      <td>1.702000</td>\n",
       "    </tr>\n",
       "    <tr>\n",
       "      <td>45</td>\n",
       "      <td>1.664000</td>\n",
       "    </tr>\n",
       "    <tr>\n",
       "      <td>46</td>\n",
       "      <td>1.627200</td>\n",
       "    </tr>\n",
       "    <tr>\n",
       "      <td>47</td>\n",
       "      <td>1.530600</td>\n",
       "    </tr>\n",
       "    <tr>\n",
       "      <td>48</td>\n",
       "      <td>1.556700</td>\n",
       "    </tr>\n",
       "    <tr>\n",
       "      <td>49</td>\n",
       "      <td>1.834500</td>\n",
       "    </tr>\n",
       "    <tr>\n",
       "      <td>50</td>\n",
       "      <td>1.752900</td>\n",
       "    </tr>\n",
       "    <tr>\n",
       "      <td>51</td>\n",
       "      <td>1.588000</td>\n",
       "    </tr>\n",
       "    <tr>\n",
       "      <td>52</td>\n",
       "      <td>1.777300</td>\n",
       "    </tr>\n",
       "    <tr>\n",
       "      <td>53</td>\n",
       "      <td>1.580000</td>\n",
       "    </tr>\n",
       "    <tr>\n",
       "      <td>54</td>\n",
       "      <td>1.716200</td>\n",
       "    </tr>\n",
       "    <tr>\n",
       "      <td>55</td>\n",
       "      <td>1.775100</td>\n",
       "    </tr>\n",
       "    <tr>\n",
       "      <td>56</td>\n",
       "      <td>1.649100</td>\n",
       "    </tr>\n",
       "    <tr>\n",
       "      <td>57</td>\n",
       "      <td>1.651500</td>\n",
       "    </tr>\n",
       "    <tr>\n",
       "      <td>58</td>\n",
       "      <td>1.629500</td>\n",
       "    </tr>\n",
       "    <tr>\n",
       "      <td>59</td>\n",
       "      <td>1.625000</td>\n",
       "    </tr>\n",
       "    <tr>\n",
       "      <td>60</td>\n",
       "      <td>1.782100</td>\n",
       "    </tr>\n",
       "  </tbody>\n",
       "</table><p>"
      ]
     },
     "metadata": {},
     "output_type": "display_data"
    }
   ],
   "execution_count": 8
  },
  {
   "metadata": {
    "ExecuteTime": {
     "end_time": "2024-10-01T05:31:13.426951Z",
     "start_time": "2024-10-01T05:31:13.421234Z"
    }
   },
   "cell_type": "code",
   "source": [
    "from tqdm import tqdm\n",
    "def infer(dataset, model, instruction):\n",
    "  results = []\n",
    "  for line in tqdm(dataset, desc=\"Inferring on test set: \"):\n",
    "      inputs = tokenizer(\n",
    "      [\n",
    "          alpaca_prompt.format(\n",
    "              instruction, # instruction\n",
    "              line[\"input\"], # input\n",
    "              \"\") # output - leave this blank for generation!\n",
    "      ], return_tensors = \"pt\").to(\"cuda\")\n",
    "      outputs = model.generate(**inputs, max_new_tokens = 64, use_cache = True)\n",
    "      result = tokenizer.batch_decode(outputs)[0]\n",
    "      start_mark = \"### Response:\\n\"\n",
    "      start_point = result.find(start_mark) + len(start_mark)\n",
    "      result = result[start_point: start_point + 1].lower()\n",
    "\n",
    "      results.append(result)\n",
    "  return results"
   ],
   "id": "b9d17543c8f054c9",
   "outputs": [],
   "execution_count": 9
  },
  {
   "cell_type": "markdown",
   "source": [
    "# Inferences on test set"
   ],
   "metadata": {
    "collapsed": false
   },
   "id": "d637707462c1501d"
  },
  {
   "cell_type": "code",
   "source": [
    "op_test_dataset = op_dataset[\"test\"]\n",
    "FastLanguageModel.for_inference(model) # Enable native 2x faster inference\n",
    "\n",
    "op_ft_results = infer(op_test_dataset, model, op_instruction)"
   ],
   "metadata": {
    "collapsed": false,
    "ExecuteTime": {
     "end_time": "2024-10-01T05:31:24.742892Z",
     "start_time": "2024-10-01T05:31:14.536377Z"
    }
   },
   "id": "a08d3ef577ce4ba1",
   "outputs": [
    {
     "name": "stderr",
     "output_type": "stream",
     "text": [
      "Inferring on test set:   4%|▎         | 7/200 [00:09<04:15,  1.32s/it]\n",
      "/home/yijingyang/anaconda3/lib/python3.12/site-packages/unsloth/models/llama.py:1498: SyntaxWarning: invalid escape sequence '\\ '\n",
      "  f\"   \\\\\\   /|    GPU: {gpu_stats.name}. Max memory: {max_memory} GB. Platform = {platform_system}.\\n\"\\\n",
      "/home/yijingyang/anaconda3/lib/python3.12/site-packages/unsloth/models/llama.py:1499: SyntaxWarning: invalid escape sequence '\\_'\n",
      "  f\"O^O/ \\_/ \\\\    Pytorch: {torch.__version__}. CUDA = {gpu_stats.major}.{gpu_stats.minor}. CUDA Toolkit = {torch.version.cuda}.\\n\"\\\n",
      "/home/yijingyang/anaconda3/lib/python3.12/site-packages/unsloth/models/llama.py:1500: SyntaxWarning: invalid escape sequence '\\ '\n",
      "  f\"\\        /    Bfloat16 = {str(SUPPORTS_BFLOAT16).upper()}. FA [Xformers = {xformers_version}. FA2 = {HAS_FLASH_ATTENTION}]\\n\"\\\n",
      "/home/yijingyang/anaconda3/lib/python3.12/site-packages/unsloth/models/llama.py:1647: SyntaxWarning: invalid escape sequence '\\.'\n",
      "  start = re.search('logger\\.info\\([\\\"\\'].+?Running training', inner_training_loop).span(0)[0]\n",
      "/home/yijingyang/anaconda3/lib/python3.12/site-packages/unsloth/models/llama.py:1650: SyntaxWarning: invalid escape sequence '\\s'\n",
      "  spaces = re.search('\\n([\\s\\t]{1,})', original_debug).group(0)[1:]\n",
      "/home/yijingyang/anaconda3/lib/python3.12/site-packages/unsloth/models/llama.py:1651: SyntaxWarning: invalid escape sequence '\\s'\n",
      "  front_spaces = re.match('([\\s\\t]{1,})', inner_training_loop).group(0)\n"
     ]
    },
    {
     "ename": "KeyboardInterrupt",
     "evalue": "",
     "output_type": "error",
     "traceback": [
      "\u001B[0;31m---------------------------------------------------------------------------\u001B[0m",
      "\u001B[0;31mKeyboardInterrupt\u001B[0m                         Traceback (most recent call last)",
      "Cell \u001B[0;32mIn[10], line 4\u001B[0m\n\u001B[1;32m      1\u001B[0m op_test_dataset \u001B[38;5;241m=\u001B[39m op_dataset[\u001B[38;5;124m\"\u001B[39m\u001B[38;5;124mtest\u001B[39m\u001B[38;5;124m\"\u001B[39m]\n\u001B[1;32m      2\u001B[0m FastLanguageModel\u001B[38;5;241m.\u001B[39mfor_inference(model) \u001B[38;5;66;03m# Enable native 2x faster inference\u001B[39;00m\n\u001B[0;32m----> 4\u001B[0m op_ft_results \u001B[38;5;241m=\u001B[39m infer(op_test_dataset, model, op_instruction)\n",
      "Cell \u001B[0;32mIn[9], line 12\u001B[0m, in \u001B[0;36minfer\u001B[0;34m(dataset, model, instruction)\u001B[0m\n\u001B[1;32m      4\u001B[0m \u001B[38;5;28;01mfor\u001B[39;00m line \u001B[38;5;129;01min\u001B[39;00m tqdm(dataset, desc\u001B[38;5;241m=\u001B[39m\u001B[38;5;124m\"\u001B[39m\u001B[38;5;124mInferring on test set: \u001B[39m\u001B[38;5;124m\"\u001B[39m):\n\u001B[1;32m      5\u001B[0m     inputs \u001B[38;5;241m=\u001B[39m tokenizer(\n\u001B[1;32m      6\u001B[0m     [\n\u001B[1;32m      7\u001B[0m         alpaca_prompt\u001B[38;5;241m.\u001B[39mformat(\n\u001B[0;32m   (...)\u001B[0m\n\u001B[1;32m     10\u001B[0m             \u001B[38;5;124m\"\u001B[39m\u001B[38;5;124m\"\u001B[39m) \u001B[38;5;66;03m# output - leave this blank for generation!\u001B[39;00m\n\u001B[1;32m     11\u001B[0m     ], return_tensors \u001B[38;5;241m=\u001B[39m \u001B[38;5;124m\"\u001B[39m\u001B[38;5;124mpt\u001B[39m\u001B[38;5;124m\"\u001B[39m)\u001B[38;5;241m.\u001B[39mto(\u001B[38;5;124m\"\u001B[39m\u001B[38;5;124mcuda\u001B[39m\u001B[38;5;124m\"\u001B[39m)\n\u001B[0;32m---> 12\u001B[0m     outputs \u001B[38;5;241m=\u001B[39m model\u001B[38;5;241m.\u001B[39mgenerate(\u001B[38;5;241m*\u001B[39m\u001B[38;5;241m*\u001B[39minputs, max_new_tokens \u001B[38;5;241m=\u001B[39m \u001B[38;5;241m64\u001B[39m, use_cache \u001B[38;5;241m=\u001B[39m \u001B[38;5;28;01mTrue\u001B[39;00m)\n\u001B[1;32m     13\u001B[0m     result \u001B[38;5;241m=\u001B[39m tokenizer\u001B[38;5;241m.\u001B[39mbatch_decode(outputs)[\u001B[38;5;241m0\u001B[39m]\n\u001B[1;32m     14\u001B[0m     start_mark \u001B[38;5;241m=\u001B[39m \u001B[38;5;124m\"\u001B[39m\u001B[38;5;124m### Response:\u001B[39m\u001B[38;5;130;01m\\n\u001B[39;00m\u001B[38;5;124m\"\u001B[39m\n",
      "File \u001B[0;32m~/anaconda3/lib/python3.12/site-packages/torch/utils/_contextlib.py:116\u001B[0m, in \u001B[0;36mcontext_decorator.<locals>.decorate_context\u001B[0;34m(*args, **kwargs)\u001B[0m\n\u001B[1;32m    113\u001B[0m \u001B[38;5;129m@functools\u001B[39m\u001B[38;5;241m.\u001B[39mwraps(func)\n\u001B[1;32m    114\u001B[0m \u001B[38;5;28;01mdef\u001B[39;00m \u001B[38;5;21mdecorate_context\u001B[39m(\u001B[38;5;241m*\u001B[39margs, \u001B[38;5;241m*\u001B[39m\u001B[38;5;241m*\u001B[39mkwargs):\n\u001B[1;32m    115\u001B[0m     \u001B[38;5;28;01mwith\u001B[39;00m ctx_factory():\n\u001B[0;32m--> 116\u001B[0m         \u001B[38;5;28;01mreturn\u001B[39;00m func(\u001B[38;5;241m*\u001B[39margs, \u001B[38;5;241m*\u001B[39m\u001B[38;5;241m*\u001B[39mkwargs)\n",
      "File \u001B[0;32m~/anaconda3/lib/python3.12/site-packages/unsloth/models/llama.py:1407\u001B[0m, in \u001B[0;36m_wrap_fast_inference.<locals>._fast_generate\u001B[0;34m(*args, **kwargs)\u001B[0m\n\u001B[1;32m   1400\u001B[0m \u001B[38;5;66;03m# Set pad token\u001B[39;00m\n\u001B[1;32m   1401\u001B[0m \u001B[38;5;66;03m# old_pad_token_id = getattr(model.config, \"pad_token_id\", None)\u001B[39;00m\n\u001B[1;32m   1402\u001B[0m \u001B[38;5;66;03m# old_eos_token_id = getattr(model.config, \"eos_token_id\", None)\u001B[39;00m\n\u001B[1;32m   1403\u001B[0m \u001B[38;5;66;03m# model.config.pad_token_id = old_eos_token_id\u001B[39;00m\n\u001B[1;32m   1404\u001B[0m \n\u001B[1;32m   1405\u001B[0m \u001B[38;5;66;03m# Autocasted\u001B[39;00m\n\u001B[1;32m   1406\u001B[0m \u001B[38;5;28;01mwith\u001B[39;00m torch\u001B[38;5;241m.\u001B[39mautocast(device_type \u001B[38;5;241m=\u001B[39m device_type, dtype \u001B[38;5;241m=\u001B[39m dtype):\n\u001B[0;32m-> 1407\u001B[0m     output \u001B[38;5;241m=\u001B[39m generate(\u001B[38;5;241m*\u001B[39margs, \u001B[38;5;241m*\u001B[39m\u001B[38;5;241m*\u001B[39mkwargs)\n\u001B[1;32m   1408\u001B[0m \u001B[38;5;28;01mpass\u001B[39;00m\n\u001B[1;32m   1410\u001B[0m \u001B[38;5;66;03m# Revert\u001B[39;00m\n\u001B[1;32m   1411\u001B[0m \u001B[38;5;66;03m# model.config.pad_token_id = old_pad_token_id\u001B[39;00m\n\u001B[1;32m   1412\u001B[0m \n\u001B[1;32m   1413\u001B[0m \u001B[38;5;66;03m# Unset a flag for generation!\u001B[39;00m\n",
      "File \u001B[0;32m~/anaconda3/lib/python3.12/site-packages/peft/peft_model.py:1704\u001B[0m, in \u001B[0;36mPeftModelForCausalLM.generate\u001B[0;34m(self, *args, **kwargs)\u001B[0m\n\u001B[1;32m   1702\u001B[0m     \u001B[38;5;28;01mwith\u001B[39;00m \u001B[38;5;28mself\u001B[39m\u001B[38;5;241m.\u001B[39m_enable_peft_forward_hooks(\u001B[38;5;241m*\u001B[39margs, \u001B[38;5;241m*\u001B[39m\u001B[38;5;241m*\u001B[39mkwargs):\n\u001B[1;32m   1703\u001B[0m         kwargs \u001B[38;5;241m=\u001B[39m {k: v \u001B[38;5;28;01mfor\u001B[39;00m k, v \u001B[38;5;129;01min\u001B[39;00m kwargs\u001B[38;5;241m.\u001B[39mitems() \u001B[38;5;28;01mif\u001B[39;00m k \u001B[38;5;129;01mnot\u001B[39;00m \u001B[38;5;129;01min\u001B[39;00m \u001B[38;5;28mself\u001B[39m\u001B[38;5;241m.\u001B[39mspecial_peft_forward_args}\n\u001B[0;32m-> 1704\u001B[0m         outputs \u001B[38;5;241m=\u001B[39m \u001B[38;5;28mself\u001B[39m\u001B[38;5;241m.\u001B[39mbase_model\u001B[38;5;241m.\u001B[39mgenerate(\u001B[38;5;241m*\u001B[39margs, \u001B[38;5;241m*\u001B[39m\u001B[38;5;241m*\u001B[39mkwargs)\n\u001B[1;32m   1705\u001B[0m \u001B[38;5;28;01melse\u001B[39;00m:\n\u001B[1;32m   1706\u001B[0m     outputs \u001B[38;5;241m=\u001B[39m \u001B[38;5;28mself\u001B[39m\u001B[38;5;241m.\u001B[39mbase_model\u001B[38;5;241m.\u001B[39mgenerate(\u001B[38;5;241m*\u001B[39m\u001B[38;5;241m*\u001B[39mkwargs)\n",
      "File \u001B[0;32m~/anaconda3/lib/python3.12/site-packages/torch/utils/_contextlib.py:116\u001B[0m, in \u001B[0;36mcontext_decorator.<locals>.decorate_context\u001B[0;34m(*args, **kwargs)\u001B[0m\n\u001B[1;32m    113\u001B[0m \u001B[38;5;129m@functools\u001B[39m\u001B[38;5;241m.\u001B[39mwraps(func)\n\u001B[1;32m    114\u001B[0m \u001B[38;5;28;01mdef\u001B[39;00m \u001B[38;5;21mdecorate_context\u001B[39m(\u001B[38;5;241m*\u001B[39margs, \u001B[38;5;241m*\u001B[39m\u001B[38;5;241m*\u001B[39mkwargs):\n\u001B[1;32m    115\u001B[0m     \u001B[38;5;28;01mwith\u001B[39;00m ctx_factory():\n\u001B[0;32m--> 116\u001B[0m         \u001B[38;5;28;01mreturn\u001B[39;00m func(\u001B[38;5;241m*\u001B[39margs, \u001B[38;5;241m*\u001B[39m\u001B[38;5;241m*\u001B[39mkwargs)\n",
      "File \u001B[0;32m~/anaconda3/lib/python3.12/site-packages/transformers/generation/utils.py:2048\u001B[0m, in \u001B[0;36mGenerationMixin.generate\u001B[0;34m(self, inputs, generation_config, logits_processor, stopping_criteria, prefix_allowed_tokens_fn, synced_gpus, assistant_model, streamer, negative_prompt_ids, negative_prompt_attention_mask, **kwargs)\u001B[0m\n\u001B[1;32m   2040\u001B[0m     input_ids, model_kwargs \u001B[38;5;241m=\u001B[39m \u001B[38;5;28mself\u001B[39m\u001B[38;5;241m.\u001B[39m_expand_inputs_for_generation(\n\u001B[1;32m   2041\u001B[0m         input_ids\u001B[38;5;241m=\u001B[39minput_ids,\n\u001B[1;32m   2042\u001B[0m         expand_size\u001B[38;5;241m=\u001B[39mgeneration_config\u001B[38;5;241m.\u001B[39mnum_return_sequences,\n\u001B[1;32m   2043\u001B[0m         is_encoder_decoder\u001B[38;5;241m=\u001B[39m\u001B[38;5;28mself\u001B[39m\u001B[38;5;241m.\u001B[39mconfig\u001B[38;5;241m.\u001B[39mis_encoder_decoder,\n\u001B[1;32m   2044\u001B[0m         \u001B[38;5;241m*\u001B[39m\u001B[38;5;241m*\u001B[39mmodel_kwargs,\n\u001B[1;32m   2045\u001B[0m     )\n\u001B[1;32m   2047\u001B[0m     \u001B[38;5;66;03m# 12. run sample (it degenerates to greedy search when `generation_config.do_sample=False`)\u001B[39;00m\n\u001B[0;32m-> 2048\u001B[0m     result \u001B[38;5;241m=\u001B[39m \u001B[38;5;28mself\u001B[39m\u001B[38;5;241m.\u001B[39m_sample(\n\u001B[1;32m   2049\u001B[0m         input_ids,\n\u001B[1;32m   2050\u001B[0m         logits_processor\u001B[38;5;241m=\u001B[39mprepared_logits_processor,\n\u001B[1;32m   2051\u001B[0m         stopping_criteria\u001B[38;5;241m=\u001B[39mprepared_stopping_criteria,\n\u001B[1;32m   2052\u001B[0m         generation_config\u001B[38;5;241m=\u001B[39mgeneration_config,\n\u001B[1;32m   2053\u001B[0m         synced_gpus\u001B[38;5;241m=\u001B[39msynced_gpus,\n\u001B[1;32m   2054\u001B[0m         streamer\u001B[38;5;241m=\u001B[39mstreamer,\n\u001B[1;32m   2055\u001B[0m         \u001B[38;5;241m*\u001B[39m\u001B[38;5;241m*\u001B[39mmodel_kwargs,\n\u001B[1;32m   2056\u001B[0m     )\n\u001B[1;32m   2058\u001B[0m \u001B[38;5;28;01melif\u001B[39;00m generation_mode \u001B[38;5;129;01min\u001B[39;00m (GenerationMode\u001B[38;5;241m.\u001B[39mBEAM_SAMPLE, GenerationMode\u001B[38;5;241m.\u001B[39mBEAM_SEARCH):\n\u001B[1;32m   2059\u001B[0m     \u001B[38;5;66;03m# 11. prepare beam search scorer\u001B[39;00m\n\u001B[1;32m   2060\u001B[0m     beam_scorer \u001B[38;5;241m=\u001B[39m BeamSearchScorer(\n\u001B[1;32m   2061\u001B[0m         batch_size\u001B[38;5;241m=\u001B[39mbatch_size,\n\u001B[1;32m   2062\u001B[0m         num_beams\u001B[38;5;241m=\u001B[39mgeneration_config\u001B[38;5;241m.\u001B[39mnum_beams,\n\u001B[0;32m   (...)\u001B[0m\n\u001B[1;32m   2067\u001B[0m         max_length\u001B[38;5;241m=\u001B[39mgeneration_config\u001B[38;5;241m.\u001B[39mmax_length,\n\u001B[1;32m   2068\u001B[0m     )\n",
      "File \u001B[0;32m~/anaconda3/lib/python3.12/site-packages/transformers/generation/utils.py:3008\u001B[0m, in \u001B[0;36mGenerationMixin._sample\u001B[0;34m(self, input_ids, logits_processor, stopping_criteria, generation_config, synced_gpus, streamer, **model_kwargs)\u001B[0m\n\u001B[1;32m   3005\u001B[0m model_inputs\u001B[38;5;241m.\u001B[39mupdate({\u001B[38;5;124m\"\u001B[39m\u001B[38;5;124moutput_hidden_states\u001B[39m\u001B[38;5;124m\"\u001B[39m: output_hidden_states} \u001B[38;5;28;01mif\u001B[39;00m output_hidden_states \u001B[38;5;28;01melse\u001B[39;00m {})\n\u001B[1;32m   3007\u001B[0m \u001B[38;5;66;03m# forward pass to get next token\u001B[39;00m\n\u001B[0;32m-> 3008\u001B[0m outputs \u001B[38;5;241m=\u001B[39m \u001B[38;5;28mself\u001B[39m(\u001B[38;5;241m*\u001B[39m\u001B[38;5;241m*\u001B[39mmodel_inputs, return_dict\u001B[38;5;241m=\u001B[39m\u001B[38;5;28;01mTrue\u001B[39;00m)\n\u001B[1;32m   3010\u001B[0m \u001B[38;5;28;01mif\u001B[39;00m synced_gpus \u001B[38;5;129;01mand\u001B[39;00m this_peer_finished:\n\u001B[1;32m   3011\u001B[0m     \u001B[38;5;28;01mcontinue\u001B[39;00m  \u001B[38;5;66;03m# don't waste resources running the code we don't need\u001B[39;00m\n",
      "File \u001B[0;32m~/anaconda3/lib/python3.12/site-packages/torch/nn/modules/module.py:1553\u001B[0m, in \u001B[0;36mModule._wrapped_call_impl\u001B[0;34m(self, *args, **kwargs)\u001B[0m\n\u001B[1;32m   1551\u001B[0m     \u001B[38;5;28;01mreturn\u001B[39;00m \u001B[38;5;28mself\u001B[39m\u001B[38;5;241m.\u001B[39m_compiled_call_impl(\u001B[38;5;241m*\u001B[39margs, \u001B[38;5;241m*\u001B[39m\u001B[38;5;241m*\u001B[39mkwargs)  \u001B[38;5;66;03m# type: ignore[misc]\u001B[39;00m\n\u001B[1;32m   1552\u001B[0m \u001B[38;5;28;01melse\u001B[39;00m:\n\u001B[0;32m-> 1553\u001B[0m     \u001B[38;5;28;01mreturn\u001B[39;00m \u001B[38;5;28mself\u001B[39m\u001B[38;5;241m.\u001B[39m_call_impl(\u001B[38;5;241m*\u001B[39margs, \u001B[38;5;241m*\u001B[39m\u001B[38;5;241m*\u001B[39mkwargs)\n",
      "File \u001B[0;32m~/anaconda3/lib/python3.12/site-packages/torch/nn/modules/module.py:1562\u001B[0m, in \u001B[0;36mModule._call_impl\u001B[0;34m(self, *args, **kwargs)\u001B[0m\n\u001B[1;32m   1557\u001B[0m \u001B[38;5;66;03m# If we don't have any hooks, we want to skip the rest of the logic in\u001B[39;00m\n\u001B[1;32m   1558\u001B[0m \u001B[38;5;66;03m# this function, and just call forward.\u001B[39;00m\n\u001B[1;32m   1559\u001B[0m \u001B[38;5;28;01mif\u001B[39;00m \u001B[38;5;129;01mnot\u001B[39;00m (\u001B[38;5;28mself\u001B[39m\u001B[38;5;241m.\u001B[39m_backward_hooks \u001B[38;5;129;01mor\u001B[39;00m \u001B[38;5;28mself\u001B[39m\u001B[38;5;241m.\u001B[39m_backward_pre_hooks \u001B[38;5;129;01mor\u001B[39;00m \u001B[38;5;28mself\u001B[39m\u001B[38;5;241m.\u001B[39m_forward_hooks \u001B[38;5;129;01mor\u001B[39;00m \u001B[38;5;28mself\u001B[39m\u001B[38;5;241m.\u001B[39m_forward_pre_hooks\n\u001B[1;32m   1560\u001B[0m         \u001B[38;5;129;01mor\u001B[39;00m _global_backward_pre_hooks \u001B[38;5;129;01mor\u001B[39;00m _global_backward_hooks\n\u001B[1;32m   1561\u001B[0m         \u001B[38;5;129;01mor\u001B[39;00m _global_forward_hooks \u001B[38;5;129;01mor\u001B[39;00m _global_forward_pre_hooks):\n\u001B[0;32m-> 1562\u001B[0m     \u001B[38;5;28;01mreturn\u001B[39;00m forward_call(\u001B[38;5;241m*\u001B[39margs, \u001B[38;5;241m*\u001B[39m\u001B[38;5;241m*\u001B[39mkwargs)\n\u001B[1;32m   1564\u001B[0m \u001B[38;5;28;01mtry\u001B[39;00m:\n\u001B[1;32m   1565\u001B[0m     result \u001B[38;5;241m=\u001B[39m \u001B[38;5;28;01mNone\u001B[39;00m\n",
      "File \u001B[0;32m~/anaconda3/lib/python3.12/site-packages/accelerate/hooks.py:170\u001B[0m, in \u001B[0;36madd_hook_to_module.<locals>.new_forward\u001B[0;34m(module, *args, **kwargs)\u001B[0m\n\u001B[1;32m    168\u001B[0m         output \u001B[38;5;241m=\u001B[39m module\u001B[38;5;241m.\u001B[39m_old_forward(\u001B[38;5;241m*\u001B[39margs, \u001B[38;5;241m*\u001B[39m\u001B[38;5;241m*\u001B[39mkwargs)\n\u001B[1;32m    169\u001B[0m \u001B[38;5;28;01melse\u001B[39;00m:\n\u001B[0;32m--> 170\u001B[0m     output \u001B[38;5;241m=\u001B[39m module\u001B[38;5;241m.\u001B[39m_old_forward(\u001B[38;5;241m*\u001B[39margs, \u001B[38;5;241m*\u001B[39m\u001B[38;5;241m*\u001B[39mkwargs)\n\u001B[1;32m    171\u001B[0m \u001B[38;5;28;01mreturn\u001B[39;00m module\u001B[38;5;241m.\u001B[39m_hf_hook\u001B[38;5;241m.\u001B[39mpost_forward(module, output)\n",
      "File \u001B[0;32m~/anaconda3/lib/python3.12/site-packages/unsloth/models/llama.py:919\u001B[0m, in \u001B[0;36mCausalLM_fast_forward.<locals>._CausalLM_fast_forward\u001B[0;34m(self, input_ids, causal_mask, attention_mask, position_ids, past_key_values, inputs_embeds, labels, use_cache, output_attentions, output_hidden_states, return_dict, num_logits_to_keep, *args, **kwargs)\u001B[0m\n\u001B[1;32m    901\u001B[0m \u001B[38;5;28;01mdef\u001B[39;00m \u001B[38;5;21m_CausalLM_fast_forward\u001B[39m(\n\u001B[1;32m    902\u001B[0m     \u001B[38;5;28mself\u001B[39m,\n\u001B[1;32m    903\u001B[0m     input_ids: torch\u001B[38;5;241m.\u001B[39mLongTensor \u001B[38;5;241m=\u001B[39m \u001B[38;5;28;01mNone\u001B[39;00m,\n\u001B[0;32m   (...)\u001B[0m\n\u001B[1;32m    915\u001B[0m     \u001B[38;5;241m*\u001B[39margs, \u001B[38;5;241m*\u001B[39m\u001B[38;5;241m*\u001B[39mkwargs,\n\u001B[1;32m    916\u001B[0m ) \u001B[38;5;241m-\u001B[39m\u001B[38;5;241m>\u001B[39m Union[Tuple, CausalLMOutputWithPast]:\n\u001B[1;32m    918\u001B[0m     \u001B[38;5;28;01mif\u001B[39;00m past_key_values \u001B[38;5;129;01mis\u001B[39;00m \u001B[38;5;129;01mnot\u001B[39;00m \u001B[38;5;28;01mNone\u001B[39;00m:\n\u001B[0;32m--> 919\u001B[0m         outputs \u001B[38;5;241m=\u001B[39m fast_forward_inference(\n\u001B[1;32m    920\u001B[0m             \u001B[38;5;28mself\u001B[39m,\n\u001B[1;32m    921\u001B[0m             input_ids,\n\u001B[1;32m    922\u001B[0m             past_key_values,\n\u001B[1;32m    923\u001B[0m             position_ids \u001B[38;5;241m=\u001B[39m position_ids,\n\u001B[1;32m    924\u001B[0m             attention_mask \u001B[38;5;241m=\u001B[39m attention_mask,\n\u001B[1;32m    925\u001B[0m         )\n\u001B[1;32m    926\u001B[0m     \u001B[38;5;28;01melse\u001B[39;00m:\n\u001B[1;32m    927\u001B[0m         causal_mask \u001B[38;5;241m=\u001B[39m xformers\u001B[38;5;241m.\u001B[39mattn_bias\u001B[38;5;241m.\u001B[39mLowerTriangularMask()\n",
      "File \u001B[0;32m~/anaconda3/lib/python3.12/site-packages/unsloth/models/llama.py:872\u001B[0m, in \u001B[0;36mLlamaModel_fast_forward_inference\u001B[0;34m(self, input_ids, past_key_values, position_ids, attention_mask)\u001B[0m\n\u001B[1;32m    870\u001B[0m residual \u001B[38;5;241m=\u001B[39m hidden_states\n\u001B[1;32m    871\u001B[0m hidden_states \u001B[38;5;241m=\u001B[39m fast_rms_layernorm_inference(decoder_layer\u001B[38;5;241m.\u001B[39minput_layernorm, hidden_states)\n\u001B[0;32m--> 872\u001B[0m hidden_states, present_key_value \u001B[38;5;241m=\u001B[39m LlamaAttention_fast_forward_inference(\n\u001B[1;32m    873\u001B[0m     decoder_layer\u001B[38;5;241m.\u001B[39mself_attn,\n\u001B[1;32m    874\u001B[0m     hidden_states \u001B[38;5;241m=\u001B[39m hidden_states,\n\u001B[1;32m    875\u001B[0m     past_key_value \u001B[38;5;241m=\u001B[39m past_key_values[idx],\n\u001B[1;32m    876\u001B[0m     position_ids \u001B[38;5;241m=\u001B[39m position_ids,\n\u001B[1;32m    877\u001B[0m     attention_mask \u001B[38;5;241m=\u001B[39m attention_mask,\n\u001B[1;32m    878\u001B[0m     do_prefill \u001B[38;5;241m=\u001B[39m \u001B[38;5;129;01mnot\u001B[39;00m \u001B[38;5;28mhasattr\u001B[39m(decoder_layer\u001B[38;5;241m.\u001B[39mself_attn, \u001B[38;5;124m\"\u001B[39m\u001B[38;5;124mpaged_attention\u001B[39m\u001B[38;5;124m\"\u001B[39m),\n\u001B[1;32m    879\u001B[0m )\n\u001B[1;32m    880\u001B[0m hidden_states \u001B[38;5;241m+\u001B[39m\u001B[38;5;241m=\u001B[39m residual\n\u001B[1;32m    882\u001B[0m residual \u001B[38;5;241m=\u001B[39m hidden_states\n",
      "File \u001B[0;32m~/anaconda3/lib/python3.12/site-packages/unsloth/models/llama.py:199\u001B[0m, in \u001B[0;36mLlamaAttention_fast_forward_inference\u001B[0;34m(self, hidden_states, past_key_value, position_ids, do_prefill, attention_mask)\u001B[0m\n\u001B[1;32m    197\u001B[0m RH_Q[:,:,:,:h] \u001B[38;5;241m=\u001B[39m Qn[:,:,:,h:]\n\u001B[1;32m    198\u001B[0m RH_Q[:,:,:,h:] \u001B[38;5;241m=\u001B[39m Qn[:,:,:,:h]\n\u001B[0;32m--> 199\u001B[0m torch\u001B[38;5;241m.\u001B[39mneg(RH_Q[:,:,:,:h], out \u001B[38;5;241m=\u001B[39m RH_Q[:,:,:,:h])\n\u001B[1;32m    200\u001B[0m Qn \u001B[38;5;241m*\u001B[39m\u001B[38;5;241m=\u001B[39m cos\n\u001B[1;32m    201\u001B[0m Qn\u001B[38;5;241m.\u001B[39maddcmul_(RH_Q, sin)\n",
      "\u001B[0;31mKeyboardInterrupt\u001B[0m: "
     ]
    }
   ],
   "execution_count": 10
  },
  {
   "cell_type": "code",
   "source": [
    "pairs_test_dataset = pairs_dataset[\"test\"]\n",
    "FastLanguageModel.for_inference(model) # Enable native 2x faster inference\n",
    "\n",
    "pairs_ft_results = infer(pairs_test_dataset, model, pairs_instruction + knowledge)"
   ],
   "metadata": {
    "collapsed": false,
    "ExecuteTime": {
     "end_time": "2024-10-01T05:36:41.129504Z",
     "start_time": "2024-10-01T05:31:33.633441Z"
    }
   },
   "id": "7dfe21c0f0627357",
   "outputs": [
    {
     "name": "stderr",
     "output_type": "stream",
     "text": [
      "Inferring on test set: 100%|██████████| 200/200 [05:07<00:00,  1.54s/it]\n"
     ]
    }
   ],
   "execution_count": 11
  },
  {
   "cell_type": "code",
   "source": [
    "def accuracy(results, actuals):\n",
    "  correct_count = 0\n",
    "  total = len(results)\n",
    "  for i in range(total):\n",
    "    if results[i] == actuals[i]:\n",
    "      correct_count += 1\n",
    "  return correct_count / total"
   ],
   "metadata": {
    "collapsed": false,
    "ExecuteTime": {
     "end_time": "2024-10-01T05:36:41.132049Z",
     "start_time": "2024-10-01T05:36:41.130110Z"
    }
   },
   "id": "6b703ac2ef9b3452",
   "outputs": [],
   "execution_count": 12
  },
  {
   "metadata": {
    "ExecuteTime": {
     "end_time": "2024-09-29T22:33:25.472059Z",
     "start_time": "2024-09-29T22:33:25.467292Z"
    }
   },
   "cell_type": "code",
   "source": [
    "truths= [line[\"output\"][:1] for line in op_test_dataset]\n",
    "\n",
    "accu_ft = accuracy(op_ft_results, truths)\n",
    "print(f\"The finetuned model accuracy on test set is {accu_ft:.3f}\")"
   ],
   "id": "ae48164547c76ce9",
   "outputs": [
    {
     "name": "stdout",
     "output_type": "stream",
     "text": [
      "The finetuned model accuracy on test set is 0.530\n"
     ]
    }
   ],
   "execution_count": 18
  },
  {
   "metadata": {
    "ExecuteTime": {
     "end_time": "2024-10-01T05:36:41.146654Z",
     "start_time": "2024-10-01T05:36:41.132488Z"
    }
   },
   "cell_type": "code",
   "source": [
    "truths= [line[\"output\"][:1] for line in pairs_test_dataset]\n",
    "\n",
    "accu_ft = accuracy(pairs_ft_results, truths)\n",
    "print(f\"The finetuned model accuracy on test set is {accu_ft:.3f}\")"
   ],
   "id": "78111501ef00e121",
   "outputs": [
    {
     "name": "stdout",
     "output_type": "stream",
     "text": [
      "The finetuned model accuracy on test set is 0.510\n"
     ]
    }
   ],
   "execution_count": 13
  },
  {
   "metadata": {},
   "cell_type": "code",
   "outputs": [],
   "execution_count": null,
   "source": "",
   "id": "82ba54ef7951a277"
  }
 ],
 "metadata": {
  "kernelspec": {
   "display_name": "Python 3",
   "language": "python",
   "name": "python3"
  },
  "language_info": {
   "codemirror_mode": {
    "name": "ipython",
    "version": 2
   },
   "file_extension": ".py",
   "mimetype": "text/x-python",
   "name": "python",
   "nbconvert_exporter": "python",
   "pygments_lexer": "ipython2",
   "version": "2.7.6"
  }
 },
 "nbformat": 4,
 "nbformat_minor": 5
}
